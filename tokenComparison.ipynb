{
 "cells": [
  {
   "cell_type": "code",
   "execution_count": null,
   "metadata": {},
   "outputs": [],
   "source": [
    "%load_ext autoreload\n",
    "%autoreload 2\n",
    "from utils import *"
   ]
  },
  {
   "cell_type": "markdown",
   "metadata": {},
   "source": [
    "### The original (German, English) dataset download links do not work - replace download links"
   ]
  },
  {
   "cell_type": "code",
   "execution_count": 2,
   "metadata": {},
   "outputs": [],
   "source": [
    "from torchtext.datasets import multi30k\n",
    "\n",
    "multi30k.URL[\"train\"] = \"https://raw.githubusercontent.com/neychev/small_DL_repo/master/datasets/Multi30k/training.tar.gz\"\n",
    "multi30k.URL[\"valid\"] = \"https://raw.githubusercontent.com/neychev/small_DL_repo/master/datasets/Multi30k/validation.tar.gz\"\n",
    "multi30k.URL[\"test\"] = \"https://raw.githubusercontent.com/neychev/small_DL_repo/master/datasets/Multi30k/mmt16_task1_test.tar.gz\"\n",
    "\n",
    "multi30k.MD5[\"train\"] = \"20140d013d05dd9a72dfde46478663ba05737ce983f478f960c1123c6671be5e\"\n",
    "multi30k.MD5[\"valid\"] = \"a7aa20e9ebd5ba5adce7909498b94410996040857154dab029851af3a866da8c\"\n",
    "multi30k.MD5[\"test\"] = \"6d1ca1dba99e2c5dd54cae1226ff11c2551e6ce63527ebb072a1f70f72a5cd36\""
   ]
  },
  {
   "cell_type": "markdown",
   "metadata": {},
   "source": [
    "# Load HuggingFace Tokenizers"
   ]
  },
  {
   "cell_type": "code",
   "execution_count": 3,
   "metadata": {},
   "outputs": [],
   "source": [
    "# These (tokenizers and the model) all have global scope\n",
    "from transformers import  AutoTokenizer,GPT2Tokenizer\n",
    "device = torch.device(\"cuda:0\" if torch.cuda.is_available() else \"cpu\")\n",
    "#\n",
    "tknzr_de = AutoTokenizer.from_pretrained(\"dbmdz/german-gpt2\")\n",
    "tknzr_de.add_special_tokens({'pad_token': '[PAD]', 'bos_token': '[BOS]', 'eos_token' : '[EOS]', 'unk_token':'[UNK]'})\n",
    "#\n",
    "tknzr_en = GPT2Tokenizer.from_pretrained('gpt2')\n",
    "tknzr_en.add_special_tokens({'pad_token': '[PAD]', 'bos_token': '[BOS]', 'eos_token' : '[EOS]', 'unk_token':'[UNK]'})\n",
    "#\n",
    "padSrc = tknzr_de(tknzr_de.pad_token)['input_ids'][0]\n",
    "padTgt = tknzr_en(tknzr_en.pad_token)['input_ids'][0]\n",
    "#\n",
    "lenSrc = len(tknzr_de)\n",
    "lenTgt = len(tknzr_en)\n",
    "#---------\n",
    "pad_IdDe = torch.tensor(tknzr_de(tknzr_de.pad_token)['input_ids'][0],device = device)\n",
    "bs_idDe = torch.tensor(tknzr_de(tknzr_de.bos_token)['input_ids'][0], device = device)\n",
    "eos_idDe = torch.tensor(tknzr_de(tknzr_de.eos_token)['input_ids'][0], device = device)\n",
    "#\n",
    "pad_IdEn = torch.tensor(tknzr_en(tknzr_en.pad_token)['input_ids'][0], device = device)\n",
    "bs_idEn = torch.tensor(tknzr_en(tknzr_en.bos_token)['input_ids'][0], device = device)\n",
    "eos_idEn = torch.tensor(tknzr_en(tknzr_en.eos_token)['input_ids'][0], device = device)"
   ]
  },
  {
   "cell_type": "markdown",
   "metadata": {},
   "source": [
    "## Load Transformer model trained with HuggingFace tokenization"
   ]
  },
  {
   "cell_type": "code",
   "execution_count": null,
   "metadata": {},
   "outputs": [],
   "source": [
    "modelHF = make_model(lenSrc, lenTgt, N=6, HF = 1)\n",
    "print(\"Loading trained Huggingface model\")\n",
    "modelHF.load_state_dict(\n",
    "    torch.load(\"multi30k_model_final_HF.pt\", map_location=torch.device(\"cpu\"))\n",
    ")"
   ]
  },
  {
   "cell_type": "markdown",
   "metadata": {},
   "source": [
    "# Load Spacy tokenizers and vocabulary"
   ]
  },
  {
   "cell_type": "code",
   "execution_count": null,
   "metadata": {},
   "outputs": [],
   "source": [
    "RUN_EXAMPLES = True\n",
    "def show_example(fn, args=[]):\n",
    "    if __name__ == \"__main__\" and RUN_EXAMPLES:\n",
    "        return fn(*args)\n",
    "\n",
    "def execute_example(fn, args=[]):\n",
    "    if __name__ == \"__main__\" and RUN_EXAMPLES:\n",
    "        fn(*args)\n",
    "\n",
    "# global variables used later in the script\n",
    "spacy_de, spacy_en = show_example(load_tokenizers)\n",
    "vocab_src, vocab_tgt = show_example(load_vocab, args=[spacy_de, spacy_en])"
   ]
  },
  {
   "cell_type": "code",
   "execution_count": null,
   "metadata": {},
   "outputs": [],
   "source": [
    "def check_outputs(\n",
    "    valid_dataloader,\n",
    "    model,\n",
    "    vocab_src,\n",
    "    vocab_tgt, #\n",
    "    n_examples=15,\n",
    "    pad_idx=2,\n",
    "    eos_string=\"</s>\", \n",
    "):\n",
    "    results = [()] * n_examples\n",
    "    resultsHF = [()]*n_examples\n",
    "    padSrcHF = tknzr_de(tknzr_de.pad_token)['input_ids'][0]\n",
    "    padTgtHF = tknzr_en(tknzr_en.pad_token)['input_ids'][0]\n",
    "    for idx in range(n_examples):\n",
    "        print(\"\\nExample %d ========\\n\" % idx)\n",
    "        b = next(iter(valid_dataloader))\n",
    "        ###\n",
    "        # SPACY\n",
    "        ###\n",
    "        rb = Batch(b[0], b[1], pad_idx) # change the collate function for valid_dataloader to return b[0],b[1],b[2],b[3]\n",
    "                                        # b[2],b[3] are the source and target tok2Id for HF model\n",
    "\n",
    "        src_tokens = [\n",
    "            vocab_src.get_itos()[x] for x in rb.src[0] if x != pad_idx\n",
    "        ]\n",
    "        tgt_tokens = [\n",
    "            vocab_tgt.get_itos()[x] for x in rb.tgt[0] if x != pad_idx\n",
    "        ]\n",
    "\n",
    "        print(\n",
    "            \"Source Spacy Text (Input)        : \"\n",
    "            + \" \".join(src_tokens).replace(\"\\n\", \"\")\n",
    "        )\n",
    "        print(\n",
    "            \"Target Spacy Text (Ground Truth) : \"\n",
    "            + \" \".join(tgt_tokens).replace(\"\\n\", \"\")\n",
    "        )\n",
    "        model_out = greedy_decode(model, rb.src, rb.src_mask, 72, 0)[0]\n",
    "        model_txt = (\n",
    "            \" \".join(\n",
    "                [vocab_tgt.get_itos()[x] for x in model_out if x != pad_idx]\n",
    "            ).split(eos_string, 1)[0]\n",
    "            + eos_string\n",
    "        )\n",
    "        print(\"Model Spacy Output               : \" + model_txt.replace(\"\\n\", \"\"))\n",
    "        results[idx] = (rb, src_tokens, tgt_tokens, model_out, model_txt)\n",
    "        print(\"========\\n\")\n",
    "        ###\n",
    "        # HUGGING FACE\n",
    "        ###\n",
    "        rb = BatchHF(b[2], b[3], padSrcHF, padTgtHF)\n",
    "        src_tokens = [tknzr_de.decode(x) for x in rb.src[0] if x!= padSrcHF]\n",
    "        tgt_tokens = [tknzr_en.decode(x) for x in rb.tgt[0] if x!= padTgtHF]\n",
    "        print(\n",
    "            \"Source HF Text  (Input)        : \"\n",
    "            + \" \".join(src_tokens).replace(\"\\n\", \"\")\n",
    "        )\n",
    "        print(\n",
    "            \"Target HF Text  (Ground Truth) : \"\n",
    "            + \" \".join(tgt_tokens).replace(\"\\n\", \"\")\n",
    "        )\n",
    "        model_out = greedy_decode(modelHF, rb.src, rb.src_mask, 72, start_symbol = tknzr_en(tknzr_en.bos_token)['input_ids'][0])[0]\n",
    "        model_txt = (\n",
    "            \" \".join(\n",
    "                [tknzr_en.decode(x) for x in model_out if x != padTgtHF]\n",
    "            ).split(tknzr_en.eos_token, 1)[0]\n",
    "            + tknzr_en.eos_token\n",
    "        )\n",
    "        print(\"Model HF Output: \" + model_txt.replace(\"\\n\", \"\"))\n",
    "\n",
    "        resultsHF[idx] = (rb, src_tokens, tgt_tokens, model_out, model_txt)\n",
    "    return results#,resultsHF\n",
    "\n",
    "\n",
    "def run_model_example(n_examples=25):\n",
    "    global vocab_src, vocab_tgt, spacy_de, spacy_en\n",
    "\n",
    "    print(\"Preparing Data ...\")\n",
    "    valid_dataloader = create_dataloaders(\n",
    "        torch.device(\"cpu\"),\n",
    "        vocab_src,\n",
    "        vocab_tgt,\n",
    "        spacy_de,\n",
    "        spacy_en,\n",
    "        batch_size=1,\n",
    "        is_distributed=False,\n",
    "        tknzr_de=tknzr_de,\n",
    "        tknzr_en=tknzr_en\n",
    "    )\n",
    "\n",
    "    print(\"Loading Trained Spacy Model ...\")\n",
    "    model = make_model(len(vocab_src), len(vocab_tgt), N=6)\n",
    "    model.load_state_dict(\n",
    "        torch.load(\"multi30k_model_final_Spacy.pt\", map_location=torch.device(\"cpu\"))\n",
    "    )\n",
    "    print(\"Comparing Model Outputs:\")\n",
    "    example_data = check_outputs(\n",
    "        valid_dataloader, model, vocab_src, vocab_tgt, n_examples=n_examples\n",
    "    )\n",
    "    return model, example_data\n",
    "\n",
    "execute_example(run_model_example)"
   ]
  }
 ],
 "metadata": {
  "kernelspec": {
   "display_name": "transformer",
   "language": "python",
   "name": "python3"
  },
  "language_info": {
   "codemirror_mode": {
    "name": "ipython",
    "version": 3
   },
   "file_extension": ".py",
   "mimetype": "text/x-python",
   "name": "python",
   "nbconvert_exporter": "python",
   "pygments_lexer": "ipython3",
   "version": "3.10.11"
  }
 },
 "nbformat": 4,
 "nbformat_minor": 2
}
