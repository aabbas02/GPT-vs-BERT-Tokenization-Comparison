{
 "cells": [
  {
   "cell_type": "markdown",
   "id": "9a429510",
   "metadata": {
    "id": "9a429510",
    "lines_to_next_cell": 2,
    "tags": []
   },
   "source": [
    "\n",
    "<center><h1>The Annotated Transformer</h1> </center>\n",
    "\n",
    "\n",
    "<center>\n",
    "<p><a href=\"https://arxiv.org/abs/1706.03762\">Attention is All You Need\n",
    "</a></p>\n",
    "</center>\n",
    "\n",
    "<img src=\"https://github.com/harvardnlp/annotated-transformer/blob/master/images/aiayn.png?raw=1\" width=\"70%\"/>\n",
    "\n",
    "* *v2022: Austin Huang, Suraj Subramanian, Jonathan Sum, Khalid Almubarak,\n",
    "   and Stella Biderman.*\n",
    "* *[Original](https://nlp.seas.harvard.edu/2018/04/03/attention.html):\n",
    "   [Sasha Rush](http://rush-nlp.com/).*\n",
    "\n",
    "\n",
    "The Transformer has been on a lot of\n",
    "people's minds over the last <s>year</s> five years.\n",
    "This post presents an annotated version of the paper in the\n",
    "form of a line-by-line implementation. It reorders and deletes\n",
    "some sections from the original paper and adds comments\n",
    "throughout. This document itself is a working notebook, and should\n",
    "be a completely usable implementation.\n",
    "Code is available\n",
    "[here](https://github.com/harvardnlp/annotated-transformer/).\n"
   ]
  },
  {
   "cell_type": "markdown",
   "id": "ff96467d",
   "metadata": {
    "id": "ff96467d",
    "lines_to_next_cell": 2
   },
   "source": [
    "<h3> Table of Contents </h3>\n",
    "<ul>\n",
    "<li><a href=\"#prelims\">Prelims</a></li>\n",
    "<li><a href=\"#background\">Background</a></li>\n",
    "<li><a href=\"#part-1-model-architecture\">Part 1: Model Architecture</a></li>\n",
    "<li><a href=\"#model-architecture\">Model Architecture</a><ul>\n",
    "<li><a href=\"#encoder-and-decoder-stacks\">Encoder and Decoder Stacks</a></li>\n",
    "<li><a href=\"#position-wise-feed-forward-networks\">Position-wise Feed-Forward\n",
    "Networks</a></li>\n",
    "<li><a href=\"#embeddings-and-softmax\">Embeddings and Softmax</a></li>\n",
    "<li><a href=\"#positional-encoding\">Positional Encoding</a></li>\n",
    "<li><a href=\"#full-model\">Full Model</a></li>\n",
    "<li><a href=\"#inference\">Inference:</a></li>\n",
    "</ul></li>\n",
    "<li><a href=\"#part-2-model-training\">Part 2: Model Training</a></li>\n",
    "<li><a href=\"#training\">Training</a><ul>\n",
    "<li><a href=\"#batches-and-masking\">Batches and Masking</a></li>\n",
    "<li><a href=\"#training-loop\">Training Loop</a></li>\n",
    "<li><a href=\"#training-data-and-batching\">Training Data and Batching</a></li>\n",
    "<li><a href=\"#hardware-and-schedule\">Hardware and Schedule</a></li>\n",
    "<li><a href=\"#optimizer\">Optimizer</a></li>\n",
    "<li><a href=\"#regularization\">Regularization</a></li>\n",
    "</ul></li>\n",
    "<li><a href=\"#a-first-example\">A First Example</a><ul>\n",
    "<li><a href=\"#synthetic-data\">Synthetic Data</a></li>\n",
    "<li><a href=\"#loss-computation\">Loss Computation</a></li>\n",
    "<li><a href=\"#greedy-decoding\">Greedy Decoding</a></li>\n",
    "</ul></li>\n",
    "<li><a href=\"#part-3-a-real-world-example\">Part 3: A Real World Example</a>\n",
    "<ul>\n",
    "<li><a href=\"#data-loading\">Data Loading</a></li>\n",
    "<li><a href=\"#iterators\">Iterators</a></li>\n",
    "<li><a href=\"#training-the-system\">Training the System</a></li>\n",
    "</ul></li>\n",
    "<li><a href=\"#additional-components-bpe-search-averaging\">Additional\n",
    "Components: BPE, Search, Averaging</a></li>\n",
    "<li><a href=\"#results\">Results</a><ul>\n",
    "<li><a href=\"#attention-visualization\">Attention Visualization</a></li>\n",
    "<li><a href=\"#encoder-self-attention\">Encoder Self Attention</a></li>\n",
    "<li><a href=\"#decoder-self-attention\">Decoder Self Attention</a></li>\n",
    "<li><a href=\"#decoder-src-attention\">Decoder Src Attention</a></li>\n",
    "</ul></li>\n",
    "<li><a href=\"#conclusion\">Conclusion</a></li>\n",
    "</ul>"
   ]
  },
  {
   "cell_type": "markdown",
   "id": "edd0e680",
   "metadata": {
    "id": "edd0e680"
   },
   "source": [
    "# Prelims\n",
    "\n",
    "<a href=\"#background\">Skip</a>"
   ]
  },
  {
   "cell_type": "code",
   "execution_count": 1,
   "id": "be4251ff",
   "metadata": {},
   "outputs": [
    {
     "name": "stdout",
     "output_type": "stream",
     "text": [
      "NumPy version: 1.26.4\n"
     ]
    }
   ],
   "source": [
    "import numpy as np\n",
    "print(\"NumPy version:\", np.__version__)"
   ]
  },
  {
   "cell_type": "code",
   "execution_count": 2,
   "id": "7d9f6898",
   "metadata": {},
   "outputs": [],
   "source": [
    "#%pip install -r requirements.txt\n",
    "%load_ext autoreload\n",
    "%autoreload 2"
   ]
  },
  {
   "cell_type": "code",
   "execution_count": 3,
   "id": "1bf3deb7",
   "metadata": {
    "execution": {
     "iopub.execute_input": "2022-05-02T01:25:17.560273Z",
     "iopub.status.busy": "2022-05-02T01:25:17.559273Z",
     "iopub.status.idle": "2022-05-02T01:25:18.690005Z",
     "shell.execute_reply": "2022-05-02T01:25:18.690769Z"
    },
    "id": "1bf3deb7",
    "lines_to_next_cell": 2
   },
   "outputs": [
    {
     "name": "stderr",
     "output_type": "stream",
     "text": [
      "c:\\virtual Environments\\transformer\\lib\\site-packages\\tqdm\\auto.py:21: TqdmWarning: IProgress not found. Please update jupyter and ipywidgets. See https://ipywidgets.readthedocs.io/en/stable/user_install.html\n",
      "  from .autonotebook import tqdm as notebook_tqdm\n"
     ]
    }
   ],
   "source": [
    "import os\n",
    "from os.path import exists\n",
    "import torch\n",
    "import torch.nn as nn\n",
    "from torch.nn.functional import log_softmax, pad\n",
    "import math\n",
    "import copy\n",
    "import time\n",
    "from torch.optim.lr_scheduler import LambdaLR\n",
    "import pandas as pd\n",
    "import altair as alt\n",
    "from torchtext.data.functional import to_map_style_dataset\n",
    "from torch.utils.data import DataLoader\n",
    "from torchtext.vocab import build_vocab_from_iterator\n",
    "import torchtext.datasets as datasets\n",
    "import GPUtil\n",
    "import warnings\n",
    "from torch.utils.data.distributed import DistributedSampler\n",
    "import torch.distributed as dist\n",
    "import torch.multiprocessing as mp\n",
    "from torch.nn.parallel import DistributedDataParallel as DDP\n",
    "\n",
    "\n",
    "# Set to False to skip notebook execution (e.g. for debugging)\n",
    "warnings.filterwarnings(\"ignore\")\n",
    "RUN_EXAMPLES = True"
   ]
  },
  {
   "cell_type": "code",
   "execution_count": 5,
   "id": "60359a1a",
   "metadata": {
    "execution": {
     "iopub.execute_input": "2022-05-02T01:25:18.702574Z",
     "iopub.status.busy": "2022-05-02T01:25:18.701680Z",
     "iopub.status.idle": "2022-05-02T01:25:18.704131Z",
     "shell.execute_reply": "2022-05-02T01:25:18.704839Z"
    },
    "id": "60359a1a"
   },
   "outputs": [],
   "source": [
    "# Some convenience helper functions used throughout the notebook\n",
    "def is_interactive_notebook():\n",
    "    return __name__ == \"__main__\"\n",
    "\n",
    "\n",
    "def show_example(fn, args=[]):\n",
    "    if __name__ == \"__main__\" and RUN_EXAMPLES:\n",
    "        return fn(*args)\n",
    "\n",
    "\n",
    "def execute_example(fn, args=[]):\n",
    "    if __name__ == \"__main__\" and RUN_EXAMPLES:\n",
    "        fn(*args)\n",
    "\n",
    "\n",
    "class DummyOptimizer(torch.optim.Optimizer):\n",
    "    def __init__(self):\n",
    "        self.param_groups = [{\"lr\": 0}]\n",
    "        None\n",
    "\n",
    "    def step(self):\n",
    "        None\n",
    "\n",
    "    def zero_grad(self, set_to_none=False):\n",
    "        None\n",
    "\n",
    "\n",
    "class DummyScheduler:\n",
    "    def step(self):\n",
    "        None"
   ]
  },
  {
   "cell_type": "markdown",
   "id": "ad3c7477",
   "metadata": {
    "id": "ad3c7477"
   },
   "source": [
    "> My comments are blockquoted. The main text is all from the paper itself."
   ]
  },
  {
   "cell_type": "markdown",
   "id": "c96103f9",
   "metadata": {
    "id": "c96103f9"
   },
   "source": [
    "\n",
    "Most competitive neural sequence transduction models have an\n",
    "encoder-decoder structure\n",
    "[(cite)](https://arxiv.org/abs/1409.0473). Here, the encoder maps an\n",
    "input sequence of symbol representations $(x_1, ..., x_n)$ to a\n",
    "sequence of continuous representations $\\mathbf{z} = (z_1, ...,\n",
    "z_n)$. Given $\\mathbf{z}$, the decoder then generates an output\n",
    "sequence $(y_1,...,y_m)$ of symbols one element at a time. At each\n",
    "step the model is auto-regressive\n",
    "[(cite)](https://arxiv.org/abs/1308.0850), consuming the previously\n",
    "generated symbols as additional input when generating the next."
   ]
  },
  {
   "cell_type": "code",
   "execution_count": 6,
   "id": "90e7e57e",
   "metadata": {
    "execution": {
     "iopub.execute_input": "2022-05-02T01:25:18.716980Z",
     "iopub.status.busy": "2022-05-02T01:25:18.716023Z",
     "iopub.status.idle": "2022-05-02T01:25:18.718971Z",
     "shell.execute_reply": "2022-05-02T01:25:18.718190Z"
    },
    "id": "90e7e57e"
   },
   "outputs": [],
   "source": [
    "class EncoderDecoder(nn.Module):\n",
    "    \"\"\"\n",
    "    A standard Encoder-Decoder architecture. Base for this and many\n",
    "    other models.\n",
    "    \"\"\"\n",
    "\n",
    "    def __init__(self, src_embed, encoder, decoder, generator,tgt_embed):\n",
    "        super(EncoderDecoder, self).__init__()\n",
    "        self.encoder = encoder\n",
    "        self.decoder = decoder\n",
    "        self.src_embed = src_embed\n",
    "        self.tgt_embed = tgt_embed\n",
    "        self.generator = generator\n",
    "\n",
    "    def forward(self, src, tgt, src_mask, tgt_mask):\n",
    "        \"Take in and process masked src and target sequences.\"\n",
    "        return self.decode(self.encode(src, src_mask), src_mask, tgt, tgt_mask)\n",
    "\n",
    "    def encode(self, src, src_mask):\n",
    "        return self.encoder(self.src_embed(src), src_mask)\n",
    "\n",
    "    def decode(self, memory, src_mask, tgt, tgt_mask):\n",
    "        return self.decoder(self.tgt_embed(tgt), memory, src_mask, tgt_mask)"
   ]
  },
  {
   "cell_type": "code",
   "execution_count": 7,
   "id": "85bfcee7",
   "metadata": {
    "execution": {
     "iopub.execute_input": "2022-05-02T01:25:18.725923Z",
     "iopub.status.busy": "2022-05-02T01:25:18.724967Z",
     "iopub.status.idle": "2022-05-02T01:25:18.727616Z",
     "shell.execute_reply": "2022-05-02T01:25:18.726912Z"
    },
    "id": "85bfcee7",
    "lines_to_next_cell": 2
   },
   "outputs": [],
   "source": [
    "class Generator(nn.Module):\n",
    "    \"Define standard linear + softmax generation step.\"\n",
    "\n",
    "    def __init__(self, d_model, vocab):\n",
    "        super(Generator, self).__init__()\n",
    "        self.proj = nn.Linear(d_model, vocab)\n",
    "\n",
    "    def forward(self, x):\n",
    "        return log_softmax(self.proj(x), dim=-1)"
   ]
  },
  {
   "cell_type": "markdown",
   "id": "bd5d4af0",
   "metadata": {
    "id": "bd5d4af0"
   },
   "source": [
    "\n",
    "The Transformer follows this overall architecture using stacked\n",
    "self-attention and point-wise, fully connected layers for both the\n",
    "encoder and decoder, shown in the left and right halves of Figure 1,\n",
    "respectively."
   ]
  },
  {
   "cell_type": "markdown",
   "id": "592fd662",
   "metadata": {
    "id": "592fd662",
    "lines_to_next_cell": 2
   },
   "source": [
    "![](https://github.com/harvardnlp/annotated-transformer/blob/master/images/ModalNet-21.png?raw=1)"
   ]
  },
  {
   "cell_type": "markdown",
   "id": "0ef04378",
   "metadata": {
    "id": "0ef04378"
   },
   "source": [
    "## Encoder and Decoder Stacks\n",
    "\n",
    "### Encoder\n",
    "\n",
    "The encoder is composed of a stack of $N=6$ identical layers."
   ]
  },
  {
   "cell_type": "code",
   "execution_count": 8,
   "id": "0367c79f",
   "metadata": {
    "execution": {
     "iopub.execute_input": "2022-05-02T01:25:18.733957Z",
     "iopub.status.busy": "2022-05-02T01:25:18.733114Z",
     "iopub.status.idle": "2022-05-02T01:25:18.735146Z",
     "shell.execute_reply": "2022-05-02T01:25:18.735851Z"
    },
    "id": "0367c79f"
   },
   "outputs": [],
   "source": [
    "def clones(module, N):\n",
    "    \"Produce N identical layers.\"\n",
    "    return nn.ModuleList([copy.deepcopy(module) for _ in range(N)])"
   ]
  },
  {
   "cell_type": "code",
   "execution_count": 9,
   "id": "1d643018",
   "metadata": {
    "execution": {
     "iopub.execute_input": "2022-05-02T01:25:18.744483Z",
     "iopub.status.busy": "2022-05-02T01:25:18.743617Z",
     "iopub.status.idle": "2022-05-02T01:25:18.745891Z",
     "shell.execute_reply": "2022-05-02T01:25:18.746578Z"
    },
    "id": "1d643018"
   },
   "outputs": [],
   "source": [
    "class Encoder(nn.Module):\n",
    "    \"Core encoder is a stack of N layers\"\n",
    "\n",
    "    def __init__(self, layer, N):\n",
    "        super(Encoder, self).__init__()\n",
    "        self.layers = clones(layer, N)\n",
    "        self.norm = LayerNorm(layer.size)\n",
    "\n",
    "    def forward(self, x, mask):\n",
    "        \"Pass the input (and mask) through each layer in turn.\"\n",
    "        for layer in self.layers:\n",
    "            x = layer(x, mask)\n",
    "        return self.norm(x)"
   ]
  },
  {
   "cell_type": "markdown",
   "id": "9f730d85",
   "metadata": {
    "id": "9f730d85"
   },
   "source": [
    "\n",
    "We employ a residual connection\n",
    "[(cite)](https://arxiv.org/abs/1512.03385) around each of the two\n",
    "sub-layers, followed by layer normalization\n",
    "[(cite)](https://arxiv.org/abs/1607.06450)."
   ]
  },
  {
   "cell_type": "code",
   "execution_count": 10,
   "id": "1eb56a59",
   "metadata": {
    "execution": {
     "iopub.execute_input": "2022-05-02T01:25:18.756189Z",
     "iopub.status.busy": "2022-05-02T01:25:18.755315Z",
     "iopub.status.idle": "2022-05-02T01:25:18.757924Z",
     "shell.execute_reply": "2022-05-02T01:25:18.758590Z"
    },
    "id": "1eb56a59"
   },
   "outputs": [],
   "source": [
    "class LayerNorm(nn.Module):\n",
    "    \"Construct a layernorm module (See citation for details).\"\n",
    "\n",
    "    def __init__(self, features, eps=1e-6):\n",
    "        super(LayerNorm, self).__init__()\n",
    "        self.a_2 = nn.Parameter(torch.ones(features)) # differentiable scale parameter\n",
    "        self.b_2 = nn.Parameter(torch.zeros(features)) # differentiable bias\n",
    "        self.eps = eps\n",
    "\n",
    "    def forward(self, x):\n",
    "        mean = x.mean(-1, keepdim=True)\n",
    "        std = x.std(-1, keepdim=True)\n",
    "        return self.a_2 * (x - mean) / (std + self.eps) + self.b_2"
   ]
  },
  {
   "cell_type": "markdown",
   "id": "c9c1edc4",
   "metadata": {
    "id": "c9c1edc4"
   },
   "source": [
    "\n",
    "That is, the output of each sub-layer is $\\mathrm{LayerNorm}(x +\n",
    "\\mathrm{Sublayer}(x))$, where $\\mathrm{Sublayer}(x)$ is the function\n",
    "implemented by the sub-layer itself.  We apply dropout\n",
    "[(cite)](http://jmlr.org/papers/v15/srivastava14a.html) to the\n",
    "output of each sub-layer, before it is added to the sub-layer input\n",
    "and normalized.\n",
    "\n",
    "To facilitate these residual connections, all sub-layers in the\n",
    "model, as well as the embedding layers, produce outputs of dimension\n",
    "$d_{\\text{model}}=512$."
   ]
  },
  {
   "cell_type": "code",
   "execution_count": 11,
   "id": "a7f34584",
   "metadata": {
    "execution": {
     "iopub.execute_input": "2022-05-02T01:25:18.767044Z",
     "iopub.status.busy": "2022-05-02T01:25:18.766174Z",
     "iopub.status.idle": "2022-05-02T01:25:18.768689Z",
     "shell.execute_reply": "2022-05-02T01:25:18.769383Z"
    },
    "id": "a7f34584"
   },
   "outputs": [],
   "source": [
    "class SublayerConnection(nn.Module):\n",
    "#    \"\"\"\n",
    "#    A residual connection followed by a layer norm.\n",
    "#    Note for code simplicity the norm is first as opposed to last.\n",
    "#    \"\"\"\n",
    "\n",
    "    def __init__(self, size, dropout):\n",
    "        super(SublayerConnection, self).__init__()\n",
    "        self.norm = LayerNorm(size)\n",
    "        self.dropout = nn.Dropout(dropout)\n",
    "\n",
    "    def forward(self, x, sublayer):\n",
    "        \"Apply residual connection to any sublayer with the same size.\"\n",
    "        return x + self.dropout(sublayer(self.norm(x)))"
   ]
  },
  {
   "cell_type": "markdown",
   "id": "e1d6e20d",
   "metadata": {
    "id": "e1d6e20d"
   },
   "source": [
    "\n",
    "Each layer has two sub-layers. The first is a multi-head\n",
    "self-attention mechanism, and the second is a simple, position-wise\n",
    "fully connected feed-forward network."
   ]
  },
  {
   "cell_type": "code",
   "execution_count": 12,
   "id": "3db97336",
   "metadata": {
    "execution": {
     "iopub.execute_input": "2022-05-02T01:25:18.779893Z",
     "iopub.status.busy": "2022-05-02T01:25:18.778804Z",
     "iopub.status.idle": "2022-05-02T01:25:18.780994Z",
     "shell.execute_reply": "2022-05-02T01:25:18.781710Z"
    },
    "id": "3db97336"
   },
   "outputs": [],
   "source": [
    "class EncoderLayer(nn.Module):\n",
    "    \"Encoder is made up of self-attn and feed forward (defined below)\"\n",
    "\n",
    "    def __init__(self, size, self_attn, feed_forward, dropout):\n",
    "        super(EncoderLayer, self).__init__()\n",
    "        self.self_attn = self_attn\n",
    "        self.feed_forward = feed_forward\n",
    "        #self.sublayer = clones(SublayerConnection(size, dropout), 2)\n",
    "        self.norm1 = LayerNorm(size)\n",
    "        self.dropout1 = nn.Dropout(dropout)\n",
    "        self.norm2 = LayerNorm(size)\n",
    "        self.dropout2 = nn.Dropout(dropout)\n",
    "        self.size = size\n",
    "\n",
    "    def forward(self, x1, mask):\n",
    "        \"Follow Figure 1 (left) for connections.\"\n",
    "        x2 = self.self_attn(self.norm1(x1),self.norm1(x1),self.norm1(x1),mask)\n",
    "        x2 = self.dropout1(x2)\n",
    "        x2 = x1  + x2\n",
    "        x3 = self.feed_forward(self.norm2(x2))\n",
    "        x3 = self.dropout2(x3)\n",
    "        x3 = x3 + x2\n",
    "        return x3\n",
    "        #x = self.sublayer[0](x, lambda x: self.self_attn(x, x, x, mask))\n",
    "        #return self.sublayer[1](x, self.feed_forward)"
   ]
  },
  {
   "cell_type": "markdown",
   "id": "9c90d6ee",
   "metadata": {
    "id": "9c90d6ee"
   },
   "source": [
    "### Decoder\n",
    "\n",
    "The decoder is also composed of a stack of $N=6$ identical layers.\n"
   ]
  },
  {
   "cell_type": "code",
   "execution_count": 13,
   "id": "4dbe403d",
   "metadata": {
    "execution": {
     "iopub.execute_input": "2022-05-02T01:25:18.790602Z",
     "iopub.status.busy": "2022-05-02T01:25:18.789754Z",
     "iopub.status.idle": "2022-05-02T01:25:18.791985Z",
     "shell.execute_reply": "2022-05-02T01:25:18.792756Z"
    },
    "id": "4dbe403d"
   },
   "outputs": [],
   "source": [
    "class Decoder(nn.Module):\n",
    "    \"Generic N layer decoder with masking.\"\n",
    "\n",
    "    def __init__(self, layer, N):\n",
    "        super(Decoder, self).__init__()\n",
    "        self.layers = clones(layer, N)\n",
    "        self.norm = LayerNorm(layer.size)\n",
    "\n",
    "    def forward(self, x, memory, src_mask, tgt_mask):\n",
    "        for layer in self.layers:\n",
    "            x = layer(x, memory, src_mask, tgt_mask)\n",
    "        return self.norm(x)"
   ]
  },
  {
   "cell_type": "markdown",
   "id": "c202cebd",
   "metadata": {
    "id": "c202cebd"
   },
   "source": [
    "\n",
    "In addition to the two sub-layers in each encoder layer, the decoder\n",
    "inserts a third sub-layer, which performs multi-head attention over\n",
    "the output of the encoder stack.  Similar to the encoder, we employ\n",
    "residual connections around each of the sub-layers, followed by\n",
    "layer normalization."
   ]
  },
  {
   "cell_type": "code",
   "execution_count": 14,
   "id": "3b1df6b1",
   "metadata": {
    "execution": {
     "iopub.execute_input": "2022-05-02T01:25:18.803099Z",
     "iopub.status.busy": "2022-05-02T01:25:18.796132Z",
     "iopub.status.idle": "2022-05-02T01:25:18.806479Z",
     "shell.execute_reply": "2022-05-02T01:25:18.805667Z"
    },
    "id": "3b1df6b1"
   },
   "outputs": [],
   "source": [
    "class DecoderLayer(nn.Module):\n",
    "    \"Decoder is made of self-attn, src-attn, and feed forward (defined below)\"\n",
    "\n",
    "    def __init__(self, size, self_attn, src_attn, feed_forward, dropout):\n",
    "        super(DecoderLayer, self).__init__()\n",
    "        self.size = size\n",
    "        self.self_attn = self_attn\n",
    "        self.src_attn = src_attn\n",
    "        self.feed_forward = feed_forward\n",
    "        self.sublayer = clones(SublayerConnection(size, dropout), 3)\n",
    "\n",
    "    def forward(self, x, memory, src_mask, tgt_mask):\n",
    "        \"Follow Figure 1 (right) for connections.\"\n",
    "        m = memory\n",
    "        x = self.sublayer[0](x, lambda x: self.self_attn(x, x, x, tgt_mask))\n",
    "        x = self.sublayer[1](x, lambda x: self.src_attn(x, m, m, src_mask))\n",
    "        return self.sublayer[2](x, self.feed_forward)"
   ]
  },
  {
   "cell_type": "markdown",
   "id": "a6852ba5",
   "metadata": {
    "id": "a6852ba5"
   },
   "source": [
    "\n",
    "We also modify the self-attention sub-layer in the decoder stack to\n",
    "prevent positions from attending to subsequent positions.  This\n",
    "masking, combined with fact that the output embeddings are offset by\n",
    "one position, ensures that the predictions for position $i$ can\n",
    "depend only on the known outputs at positions less than $i$."
   ]
  },
  {
   "cell_type": "code",
   "execution_count": 15,
   "id": "1fe1b467",
   "metadata": {
    "execution": {
     "iopub.execute_input": "2022-05-02T01:25:18.813309Z",
     "iopub.status.busy": "2022-05-02T01:25:18.812387Z",
     "iopub.status.idle": "2022-05-02T01:25:18.815171Z",
     "shell.execute_reply": "2022-05-02T01:25:18.814519Z"
    },
    "id": "1fe1b467"
   },
   "outputs": [],
   "source": [
    "def subsequent_mask(size):\n",
    "    \"Mask out subsequent positions.\"\n",
    "    attn_shape = (1, size, size)\n",
    "    subsequent_mask = torch.triu(torch.ones(attn_shape), diagonal=1).type(\n",
    "        torch.uint8\n",
    "    )\n",
    "    return subsequent_mask == 0"
   ]
  },
  {
   "cell_type": "markdown",
   "id": "ad536665",
   "metadata": {
    "id": "ad536665"
   },
   "source": [
    "\n",
    "> Below the attention mask shows the position each tgt word (row) is\n",
    "> allowed to look at (column). Words are blocked for attending to\n",
    "> future words during training."
   ]
  },
  {
   "cell_type": "markdown",
   "id": "4946c508",
   "metadata": {
    "id": "4946c508",
    "lines_to_next_cell": 2
   },
   "source": [
    "### Attention\n",
    "\n",
    "An attention function can be described as mapping a query and a set\n",
    "of key-value pairs to an output, where the query, keys, values, and\n",
    "output are all vectors.  The output is computed as a weighted sum of\n",
    "the values, where the weight assigned to each value is computed by a\n",
    "compatibility function of the query with the corresponding key.\n",
    "\n",
    "We call our particular attention \"Scaled Dot-Product Attention\".\n",
    "The input consists of queries and keys of dimension $d_k$, and\n",
    "values of dimension $d_v$.  We compute the dot products of the query\n",
    "with all keys, divide each by $\\sqrt{d_k}$, and apply a softmax\n",
    "function to obtain the weights on the values.\n",
    "\n",
    "\n",
    "\n",
    "![](https://github.com/harvardnlp/annotated-transformer/blob/master/images/ModalNet-19.png?raw=1)"
   ]
  },
  {
   "cell_type": "markdown",
   "id": "4fe740ac",
   "metadata": {
    "id": "4fe740ac"
   },
   "source": [
    "\n",
    "In practice, we compute the attention function on a set of queries\n",
    "simultaneously, packed together into a matrix $Q$.  The keys and\n",
    "values are also packed together into matrices $K$ and $V$.  We\n",
    "compute the matrix of outputs as:\n",
    "\n",
    "$$\n",
    "   \\mathrm{Attention}(Q, K, V) = \\mathrm{softmax}(\\frac{QK^T}{\\sqrt{d_k}})V\n",
    "$$"
   ]
  },
  {
   "cell_type": "code",
   "execution_count": 17,
   "id": "6c92d7c5",
   "metadata": {
    "execution": {
     "iopub.execute_input": "2022-05-02T01:25:19.251181Z",
     "iopub.status.busy": "2022-05-02T01:25:19.250905Z",
     "iopub.status.idle": "2022-05-02T01:25:19.253190Z",
     "shell.execute_reply": "2022-05-02T01:25:19.253437Z"
    },
    "id": "6c92d7c5",
    "lines_to_next_cell": 2
   },
   "outputs": [],
   "source": [
    "def attention(query, key, value, mask=None, dropout=None):\n",
    "    \"Compute 'Scaled Dot Product Attention'\"\n",
    "    d_k = query.size(-1)\n",
    "    scores = torch.matmul(query, key.transpose(-2, -1)) / math.sqrt(d_k)\n",
    "    if mask is not None:\n",
    "        scores = scores.masked_fill(mask == 0, -1e9)\n",
    "    p_attn = scores.softmax(dim=-1)\n",
    "    if dropout is not None:\n",
    "        p_attn = dropout(p_attn)\n",
    "    return torch.matmul(p_attn, value), p_attn"
   ]
  },
  {
   "cell_type": "markdown",
   "id": "dd48248c",
   "metadata": {
    "id": "dd48248c"
   },
   "source": [
    "\n",
    "The two most commonly used attention functions are additive\n",
    "attention [(cite)](https://arxiv.org/abs/1409.0473), and dot-product\n",
    "(multiplicative) attention.  Dot-product attention is identical to\n",
    "our algorithm, except for the scaling factor of\n",
    "$\\frac{1}{\\sqrt{d_k}}$. Additive attention computes the\n",
    "compatibility function using a feed-forward network with a single\n",
    "hidden layer.  While the two are similar in theoretical complexity,\n",
    "dot-product attention is much faster and more space-efficient in\n",
    "practice, since it can be implemented using highly optimized matrix\n",
    "multiplication code.\n",
    "\n",
    "\n",
    "While for small values of $d_k$ the two mechanisms perform\n",
    "similarly, additive attention outperforms dot product attention\n",
    "without scaling for larger values of $d_k$\n",
    "[(cite)](https://arxiv.org/abs/1703.03906). We suspect that for\n",
    "large values of $d_k$, the dot products grow large in magnitude,\n",
    "pushing the softmax function into regions where it has extremely\n",
    "small gradients (To illustrate why the dot products get large,\n",
    "assume that the components of $q$ and $k$ are independent random\n",
    "variables with mean $0$ and variance $1$.  Then their dot product,\n",
    "$q \\cdot k = \\sum_{i=1}^{d_k} q_ik_i$, has mean $0$ and variance\n",
    "$d_k$.). To counteract this effect, we scale the dot products by\n",
    "$\\frac{1}{\\sqrt{d_k}}$.\n",
    "\n"
   ]
  },
  {
   "cell_type": "markdown",
   "id": "e4c162ba",
   "metadata": {
    "id": "e4c162ba",
    "lines_to_next_cell": 2
   },
   "source": [
    "![](https://github.com/harvardnlp/annotated-transformer/blob/master/images/ModalNet-20.png?raw=1)"
   ]
  },
  {
   "cell_type": "markdown",
   "id": "795454ef",
   "metadata": {
    "id": "795454ef"
   },
   "source": [
    "\n",
    "Multi-head attention allows the model to jointly attend to\n",
    "information from different representation subspaces at different\n",
    "positions. With a single attention head, averaging inhibits this.\n",
    "\n",
    "$$\n",
    "\\mathrm{MultiHead}(Q, K, V) =\n",
    "    \\mathrm{Concat}(\\mathrm{head_1}, ..., \\mathrm{head_h})W^O \\\\\n",
    "    \\text{where}~\\mathrm{head_i} = \\mathrm{Attention}(QW^Q_i, KW^K_i, VW^V_i)\n",
    "$$\n",
    "\n",
    "Where the projections are parameter matrices $W^Q_i \\in\n",
    "\\mathbb{R}^{d_{\\text{model}} \\times d_k}$, $W^K_i \\in\n",
    "\\mathbb{R}^{d_{\\text{model}} \\times d_k}$, $W^V_i \\in\n",
    "\\mathbb{R}^{d_{\\text{model}} \\times d_v}$ and $W^O \\in\n",
    "\\mathbb{R}^{hd_v \\times d_{\\text{model}}}$.\n",
    "\n",
    "In this work we employ $h=8$ parallel attention layers, or\n",
    "heads. For each of these we use $d_k=d_v=d_{\\text{model}}/h=64$. Due\n",
    "to the reduced dimension of each head, the total computational cost\n",
    "is similar to that of single-head attention with full\n",
    "dimensionality."
   ]
  },
  {
   "cell_type": "code",
   "execution_count": 18,
   "id": "e7901bdc",
   "metadata": {
    "execution": {
     "iopub.execute_input": "2022-05-02T01:25:19.265961Z",
     "iopub.status.busy": "2022-05-02T01:25:19.265360Z",
     "iopub.status.idle": "2022-05-02T01:25:19.267873Z",
     "shell.execute_reply": "2022-05-02T01:25:19.267306Z"
    },
    "id": "e7901bdc"
   },
   "outputs": [],
   "source": [
    "class MultiHeadedAttention(nn.Module):\n",
    "    def __init__(self, h, d_model, dropout=0.1):\n",
    "        \"Take in model size and number of heads.\"\n",
    "        super(MultiHeadedAttention, self).__init__()\n",
    "        assert d_model % h == 0\n",
    "        # We assume d_v always equals d_k\n",
    "        self.d_k = d_model // h\n",
    "        self.h = h\n",
    "        self.linears = clones(nn.Linear(d_model, d_model), 4)\n",
    "        self.attn = None\n",
    "        self.dropout = nn.Dropout(p=dropout)\n",
    "\n",
    "    def forward(self, query, key, value, mask=None):\n",
    "        \"Implements Figure 2\"\n",
    "        if mask is not None:\n",
    "            # Same mask applied to all h heads.\n",
    "            mask = mask.unsqueeze(1)\n",
    "        nbatches = query.size(0)\n",
    "\n",
    "        # 1) Do all the linear projections in batch from d_model => h x d_k\n",
    "        query, key, value = [\n",
    "            lin(x).view(nbatches, -1, self.h, self.d_k).transpose(1, 2)\n",
    "            for lin, x in zip(self.linears, (query, key, value))\n",
    "        ]\n",
    "\n",
    "        # 2) Apply attention on all the projected vectors in batch.\n",
    "        x, self.attn = attention(\n",
    "            query, key, value, mask=mask, dropout=self.dropout\n",
    "        )\n",
    "\n",
    "        # 3) \"Concat\" using a view and apply a final linear.\n",
    "        x = (\n",
    "            x.transpose(1, 2)\n",
    "            .contiguous()\n",
    "            .view(nbatches, -1, self.h * self.d_k)\n",
    "        )\n",
    "        del query\n",
    "        del key\n",
    "        del value\n",
    "        return self.linears[-1](x)"
   ]
  },
  {
   "cell_type": "markdown",
   "id": "8223c349",
   "metadata": {
    "id": "8223c349"
   },
   "source": [
    "### Applications of Attention in our Model\n",
    "\n",
    "The Transformer uses multi-head attention in three different ways:\n",
    "1) In \"encoder-decoder attention\" layers, the queries come from the\n",
    "previous decoder layer, and the memory keys and values come from the\n",
    "output of the encoder.  This allows every position in the decoder to\n",
    "attend over all positions in the input sequence.  This mimics the\n",
    "typical encoder-decoder attention mechanisms in sequence-to-sequence\n",
    "models such as [(cite)](https://arxiv.org/abs/1609.08144).\n",
    "\n",
    "\n",
    "2) The encoder contains self-attention layers.  In a self-attention\n",
    "layer all of the keys, values and queries come from the same place,\n",
    "in this case, the output of the previous layer in the encoder.  Each\n",
    "position in the encoder can attend to all positions in the previous\n",
    "layer of the encoder.\n",
    "\n",
    "\n",
    "3) Similarly, self-attention layers in the decoder allow each\n",
    "position in the decoder to attend to all positions in the decoder up\n",
    "to and including that position.  We need to prevent leftward\n",
    "information flow in the decoder to preserve the auto-regressive\n",
    "property.  We implement this inside of scaled dot-product attention\n",
    "by masking out (setting to $-\\infty$) all values in the input of the\n",
    "softmax which correspond to illegal connections."
   ]
  },
  {
   "cell_type": "markdown",
   "id": "8299eb68",
   "metadata": {
    "id": "8299eb68"
   },
   "source": [
    "## Position-wise Feed-Forward Networks\n",
    "\n",
    "In addition to attention sub-layers, each of the layers in our\n",
    "encoder and decoder contains a fully connected feed-forward network,\n",
    "which is applied to each position separately and identically.  This\n",
    "consists of two linear transformations with a ReLU activation in\n",
    "between.\n",
    "\n",
    "$$\\mathrm{FFN}(x)=\\max(0, xW_1 + b_1) W_2 + b_2$$\n",
    "\n",
    "While the linear transformations are the same across different\n",
    "positions, they use different parameters from layer to\n",
    "layer. Another way of describing this is as two convolutions with\n",
    "kernel size 1.  The dimensionality of input and output is\n",
    "$d_{\\text{model}}=512$, and the inner-layer has dimensionality\n",
    "$d_{ff}=2048$."
   ]
  },
  {
   "cell_type": "code",
   "execution_count": 19,
   "id": "cf547802",
   "metadata": {
    "execution": {
     "iopub.execute_input": "2022-05-02T01:25:19.274902Z",
     "iopub.status.busy": "2022-05-02T01:25:19.274161Z",
     "iopub.status.idle": "2022-05-02T01:25:19.277708Z",
     "shell.execute_reply": "2022-05-02T01:25:19.278473Z"
    },
    "id": "cf547802"
   },
   "outputs": [],
   "source": [
    "class PositionwiseFeedForward(nn.Module):\n",
    "    \"Implements FFN equation.\"\n",
    "\n",
    "    def __init__(self, d_model, d_ff, dropout=0.1):\n",
    "        super(PositionwiseFeedForward, self).__init__()\n",
    "        self.w_1 = nn.Linear(d_model, d_ff)\n",
    "        self.w_2 = nn.Linear(d_ff, d_model)\n",
    "        self.dropout = nn.Dropout(dropout)\n",
    "\n",
    "    def forward(self, x):\n",
    "        return self.w_2(self.dropout(self.w_1(x).relu()))"
   ]
  },
  {
   "cell_type": "markdown",
   "id": "9c1dcffc",
   "metadata": {
    "id": "9c1dcffc"
   },
   "source": [
    "## Embeddings and Softmax\n",
    "\n",
    "Similarly to other sequence transduction models, we use learned\n",
    "embeddings to convert the input tokens and output tokens to vectors\n",
    "of dimension $d_{\\text{model}}$.  We also use the usual learned\n",
    "linear transformation and softmax function to convert the decoder\n",
    "output to predicted next-token probabilities.  In our model, we\n",
    "share the same weight matrix between the two embedding layers and\n",
    "the pre-softmax linear transformation, similar to\n",
    "[(cite)](https://arxiv.org/abs/1608.05859). In the embedding layers,\n",
    "we multiply those weights by $\\sqrt{d_{\\text{model}}}$."
   ]
  },
  {
   "cell_type": "code",
   "execution_count": 20,
   "id": "f851b029",
   "metadata": {
    "execution": {
     "iopub.execute_input": "2022-05-02T01:25:19.286884Z",
     "iopub.status.busy": "2022-05-02T01:25:19.285947Z",
     "iopub.status.idle": "2022-05-02T01:25:19.288160Z",
     "shell.execute_reply": "2022-05-02T01:25:19.288878Z"
    },
    "id": "f851b029"
   },
   "outputs": [],
   "source": [
    "class Embeddings(nn.Module):\n",
    "    def __init__(self, d_model, vocab):\n",
    "        super(Embeddings, self).__init__()\n",
    "        self.lut = nn.Embedding(vocab, d_model)\n",
    "        self.d_model = d_model\n",
    "\n",
    "    def forward(self, x):\n",
    "        return self.lut(x) * math.sqrt(self.d_model)"
   ]
  },
  {
   "cell_type": "markdown",
   "id": "a6005590",
   "metadata": {
    "id": "a6005590"
   },
   "source": [
    "## Positional Encoding\n",
    "\n",
    "Since our model contains no recurrence and no convolution, in order\n",
    "for the model to make use of the order of the sequence, we must\n",
    "inject some information about the relative or absolute position of\n",
    "the tokens in the sequence.  To this end, we add \"positional\n",
    "encodings\" to the input embeddings at the bottoms of the encoder and\n",
    "decoder stacks.  The positional encodings have the same dimension\n",
    "$d_{\\text{model}}$ as the embeddings, so that the two can be summed.\n",
    "There are many choices of positional encodings, learned and fixed\n",
    "[(cite)](https://arxiv.org/pdf/1705.03122.pdf).\n",
    "\n",
    "In this work, we use sine and cosine functions of different frequencies:\n",
    "\n",
    "$$PE_{(pos,2i)} = \\sin(pos / 10000^{2i/d_{\\text{model}}})$$\n",
    "\n",
    "$$PE_{(pos,2i+1)} = \\cos(pos / 10000^{2i/d_{\\text{model}}})$$\n",
    "\n",
    "where $pos$ is the position and $i$ is the dimension.  That is, each\n",
    "dimension of the positional encoding corresponds to a sinusoid.  The\n",
    "wavelengths form a geometric progression from $2\\pi$ to $10000 \\cdot\n",
    "2\\pi$.  We chose this function because we hypothesized it would\n",
    "allow the model to easily learn to attend by relative positions,\n",
    "since for any fixed offset $k$, $PE_{pos+k}$ can be represented as a\n",
    "linear function of $PE_{pos}$.\n",
    "\n",
    "In addition, we apply dropout to the sums of the embeddings and the\n",
    "positional encodings in both the encoder and decoder stacks.  For\n",
    "the base model, we use a rate of $P_{drop}=0.1$.\n",
    "\n"
   ]
  },
  {
   "cell_type": "code",
   "execution_count": 21,
   "id": "dfacc553",
   "metadata": {
    "execution": {
     "iopub.execute_input": "2022-05-02T01:25:19.300508Z",
     "iopub.status.busy": "2022-05-02T01:25:19.299554Z",
     "iopub.status.idle": "2022-05-02T01:25:19.301927Z",
     "shell.execute_reply": "2022-05-02T01:25:19.302701Z"
    },
    "id": "dfacc553"
   },
   "outputs": [],
   "source": [
    "class PositionalEncoding(nn.Module):\n",
    "    \"Implement the PE function.\"\n",
    "\n",
    "    def __init__(self, d_model, dropout, max_len=5000):\n",
    "        super(PositionalEncoding, self).__init__()\n",
    "        self.dropout = nn.Dropout(p=dropout)\n",
    "\n",
    "        # Compute the positional encodings once in log space.\n",
    "        pe = torch.zeros(max_len, d_model)\n",
    "        position = torch.arange(0, max_len).unsqueeze(1)\n",
    "        div_term = torch.exp(\n",
    "            torch.arange(0, d_model, 2) * -(math.log(10000.0) / d_model)\n",
    "        )\n",
    "        pe[:, 0::2] = torch.sin(position * div_term)\n",
    "        pe[:, 1::2] = torch.cos(position * div_term)\n",
    "        pe = pe.unsqueeze(0)\n",
    "        self.register_buffer(\"pe\", pe)\n",
    "\n",
    "    def forward(self, x):\n",
    "        x = x + self.pe[:, : x.size(1)].requires_grad_(False)\n",
    "        #print(f\"Positional Encoding = {x.shape}\")\n",
    "        return self.dropout(x)"
   ]
  },
  {
   "cell_type": "markdown",
   "id": "04de678b",
   "metadata": {
    "id": "04de678b"
   },
   "source": [
    "\n",
    "> Below the positional encoding will add in a sine wave based on\n",
    "> position. The frequency and offset of the wave is different for\n",
    "> each dimension."
   ]
  },
  {
   "cell_type": "code",
   "execution_count": 22,
   "id": "c37945f2",
   "metadata": {
    "colab": {
     "base_uri": "https://localhost:8080/",
     "height": 368
    },
    "execution": {
     "iopub.execute_input": "2022-05-02T01:25:19.312150Z",
     "iopub.status.busy": "2022-05-02T01:25:19.311259Z",
     "iopub.status.idle": "2022-05-02T01:25:19.626150Z",
     "shell.execute_reply": "2022-05-02T01:25:19.626854Z"
    },
    "id": "c37945f2",
    "outputId": "e4fb106c-7b9f-4ab5-adf6-f516198d335e",
    "type": "example"
   },
   "outputs": [],
   "source": [
    "def example_positional():\n",
    "    pe = PositionalEncoding(20, 0)\n",
    "    y = pe.forward(torch.zeros(1, 100, 20))\n",
    "\n",
    "    data = pd.concat(\n",
    "        [\n",
    "            pd.DataFrame(\n",
    "                {\n",
    "                    \"embedding\": y[0, :, dim],\n",
    "                    \"dimension\": dim,\n",
    "                    \"position\": list(range(100)),\n",
    "                }\n",
    "            )\n",
    "            for dim in [4, 5, 6, 7]\n",
    "        ]\n",
    "    )\n",
    "\n",
    "    return (\n",
    "        alt.Chart(data)\n",
    "        .mark_line()\n",
    "        .properties(width=800)\n",
    "        .encode(x=\"position\", y=\"embedding\", color=\"dimension:N\")\n",
    "        .interactive()\n",
    "    )\n"
   ]
  },
  {
   "cell_type": "markdown",
   "id": "2bc7f6c2",
   "metadata": {
    "id": "2bc7f6c2"
   },
   "source": [
    "\n",
    "We also experimented with using learned positional embeddings\n",
    "[(cite)](https://arxiv.org/pdf/1705.03122.pdf) instead, and found\n",
    "that the two versions produced nearly identical results.  We chose\n",
    "the sinusoidal version because it may allow the model to extrapolate\n",
    "to sequence lengths longer than the ones encountered during\n",
    "training."
   ]
  },
  {
   "cell_type": "markdown",
   "id": "74aef3a8",
   "metadata": {
    "id": "74aef3a8"
   },
   "source": [
    "## Full Model\n",
    "\n",
    "> Here we define a function from hyperparameters to a full model."
   ]
  },
  {
   "cell_type": "code",
   "execution_count": 23,
   "id": "460e5768",
   "metadata": {
    "execution": {
     "iopub.execute_input": "2022-05-02T01:25:19.633281Z",
     "iopub.status.busy": "2022-05-02T01:25:19.632424Z",
     "iopub.status.idle": "2022-05-02T01:25:19.634909Z",
     "shell.execute_reply": "2022-05-02T01:25:19.634216Z"
    },
    "id": "460e5768"
   },
   "outputs": [],
   "source": [
    "def make_model(\n",
    "    src_vocab, tgt_vocab, N=6, d_model=512, d_ff=2048, h=8, dropout=0.1\n",
    "):\n",
    "    \"Helper: Construct a model from hyperparameters.\"\n",
    "    c = copy.deepcopy\n",
    "    attn = MultiHeadedAttention(h, d_model)\n",
    "    ff = PositionwiseFeedForward(d_model, d_ff, dropout)\n",
    "    position = PositionalEncoding(d_model, dropout)\n",
    "    model = EncoderDecoder(\n",
    "        nn.Sequential(Embeddings(d_model, src_vocab), c(position)),\n",
    "        Encoder(EncoderLayer(d_model, c(attn), c(ff), dropout), N),\n",
    "        Decoder(DecoderLayer(d_model, c(attn), c(attn), c(ff), dropout), N),\n",
    "        Generator(d_model, tgt_vocab),\n",
    "        nn.Sequential(Embeddings(d_model, tgt_vocab), c(position))\n",
    "    )\n",
    "\n",
    "    # This was important from their code.\n",
    "    # Initialize parameters with Glorot / fan_avg.\n",
    "    for p in model.parameters():\n",
    "        if p.dim() > 1:\n",
    "            nn.init.xavier_uniform_(p)\n",
    "    return model"
   ]
  },
  {
   "cell_type": "markdown",
   "id": "16acd58b",
   "metadata": {
    "id": "16acd58b"
   },
   "source": [
    "# Training\n",
    "\n",
    "This section describes the training regime for our models."
   ]
  },
  {
   "cell_type": "markdown",
   "id": "7e4dad0d",
   "metadata": {
    "id": "7e4dad0d"
   },
   "source": [
    "\n",
    "> We stop for a quick interlude to introduce some of the tools\n",
    "> needed to train a standard encoder decoder model. First we define a\n",
    "> batch object that holds the src and target sentences for training,\n",
    "> as well as constructing the masks."
   ]
  },
  {
   "cell_type": "markdown",
   "id": "918f5ddd",
   "metadata": {
    "id": "918f5ddd"
   },
   "source": [
    "## Batches and Masking"
   ]
  },
  {
   "cell_type": "code",
   "execution_count": 25,
   "id": "4ee20bc4",
   "metadata": {
    "execution": {
     "iopub.execute_input": "2022-05-02T01:25:20.889839Z",
     "iopub.status.busy": "2022-05-02T01:25:20.889563Z",
     "iopub.status.idle": "2022-05-02T01:25:20.890646Z",
     "shell.execute_reply": "2022-05-02T01:25:20.892925Z"
    },
    "id": "4ee20bc4"
   },
   "outputs": [],
   "source": [
    "class Batch:\n",
    "    \"\"\"Object for holding a batch of data with mask during training.\"\"\"\n",
    "\n",
    "    def __init__(self, src, tgt=None, padSrc = None, padTgt=None):  # 2 = <blank>\n",
    "        self.src = src\n",
    "        self.src_mask = (src != padSrc).unsqueeze(-2)\n",
    "        if tgt is not None:\n",
    "            self.tgt = tgt[:, :-1]\n",
    "            self.tgt_y = tgt[:, 1:]\n",
    "            self.tgt_mask = self.make_std_mask(self.tgt, padTgt)\n",
    "            self.ntokens = (self.tgt_y != padTgt).data.sum()\n",
    "\n",
    "    @staticmethod\n",
    "    def make_std_mask(tgt, pad):\n",
    "        \"Create a mask to hide padding and future words.\"\n",
    "        tgt_mask = (tgt != pad).unsqueeze(-2)\n",
    "        tgt_mask = tgt_mask & subsequent_mask(tgt.size(-1)).type_as(\n",
    "            tgt_mask.data\n",
    "        )\n",
    "        return tgt_mask"
   ]
  },
  {
   "cell_type": "markdown",
   "id": "a013a116",
   "metadata": {
    "id": "a013a116"
   },
   "source": [
    "\n",
    "> Next we create a generic training and scoring function to keep\n",
    "> track of loss. We pass in a generic loss compute function that\n",
    "> also handles parameter updates."
   ]
  },
  {
   "cell_type": "markdown",
   "id": "934a7a4d",
   "metadata": {
    "id": "934a7a4d"
   },
   "source": [
    "## Training Loop"
   ]
  },
  {
   "cell_type": "code",
   "execution_count": 26,
   "id": "bd32298c",
   "metadata": {
    "execution": {
     "iopub.execute_input": "2022-05-02T01:25:20.895558Z",
     "iopub.status.busy": "2022-05-02T01:25:20.895196Z",
     "iopub.status.idle": "2022-05-02T01:25:20.896378Z",
     "shell.execute_reply": "2022-05-02T01:25:20.896666Z"
    },
    "id": "bd32298c"
   },
   "outputs": [],
   "source": [
    "class TrainState:\n",
    "    \"\"\"Track number of steps, examples, and tokens processed\"\"\"\n",
    "    step: int = 0  # Steps in the current epoch\n",
    "    accum_step: int = 0  # Number of gradient accumulation steps\n",
    "    samples: int = 0  # total # of examples used\n",
    "    tokens: int = 0  # total # of tokens processed"
   ]
  },
  {
   "cell_type": "code",
   "execution_count": 27,
   "id": "1013f248",
   "metadata": {
    "execution": {
     "iopub.execute_input": "2022-05-02T01:25:20.901877Z",
     "iopub.status.busy": "2022-05-02T01:25:20.897925Z",
     "iopub.status.idle": "2022-05-02T01:25:20.903288Z",
     "shell.execute_reply": "2022-05-02T01:25:20.902928Z"
    },
    "id": "1013f248"
   },
   "outputs": [],
   "source": [
    "def run_epoch(\n",
    "    data_iter,\n",
    "    model,\n",
    "    loss_compute,\n",
    "    optimizer,\n",
    "    scheduler,\n",
    "    mode=\"train\",\n",
    "    accum_iter=1,\n",
    "    train_state=TrainState(),\n",
    "):\n",
    "    \"\"\"Train a single epoch\"\"\"\n",
    "    start = time.time()\n",
    "    total_tokens = 0\n",
    "    total_loss = 0\n",
    "    tokens = 0\n",
    "    n_accum = 0\n",
    "    for i, batch in enumerate(data_iter):\n",
    "        out = model.forward(\n",
    "            batch.src, batch.tgt, batch.src_mask, batch.tgt_mask\n",
    "        )\n",
    "        loss, loss_node = loss_compute(out, batch.tgt_y, batch.ntokens)\n",
    "        # loss_node = loss_node / accum_iter\n",
    "        if mode == \"train\" or mode == \"train+log\":\n",
    "            loss_node.backward()\n",
    "            train_state.step += 1\n",
    "            train_state.samples += batch.src.shape[0]\n",
    "            train_state.tokens += batch.ntokens\n",
    "            if i % accum_iter == 0:\n",
    "                optimizer.step()\n",
    "                optimizer.zero_grad(set_to_none=True)\n",
    "                n_accum += 1\n",
    "                train_state.accum_step += 1\n",
    "            scheduler.step()\n",
    "\n",
    "        total_loss += loss\n",
    "        total_tokens += batch.ntokens\n",
    "        tokens += batch.ntokens\n",
    "        if i % 40 == 1 and (mode == \"train\" or mode == \"train+log\"):\n",
    "            lr = optimizer.param_groups[0][\"lr\"]\n",
    "            elapsed = time.time() - start\n",
    "            print(\n",
    "                (\n",
    "                    \"Epoch Step: %6d | Accumulation Step: %3d | Loss: %6.2f \"\n",
    "                    + \"| Tokens / Sec: %7.1f | Learning Rate: %6.1e\"\n",
    "                )\n",
    "                % (i, n_accum, loss / batch.ntokens, tokens / elapsed, lr)\n",
    "            )\n",
    "            start = time.time()\n",
    "            tokens = 0\n",
    "        del loss\n",
    "        del loss_node\n",
    "    return total_loss / total_tokens, train_state"
   ]
  },
  {
   "cell_type": "markdown",
   "id": "b78103ca",
   "metadata": {
    "id": "b78103ca"
   },
   "source": [
    "## Training Data and Batching\n",
    "\n",
    "We trained on the standard WMT 2014 English-German dataset\n",
    "consisting of about 4.5 million sentence pairs.  Sentences were\n",
    "encoded using byte-pair encoding, which has a shared source-target\n",
    "vocabulary of about 37000 tokens. For English-French, we used the\n",
    "significantly larger WMT 2014 English-French dataset consisting of\n",
    "36M sentences and split tokens into a 32000 word-piece vocabulary.\n",
    "\n",
    "\n",
    "Sentence pairs were batched together by approximate sequence length.\n",
    "Each training batch contained a set of sentence pairs containing\n",
    "approximately 25000 source tokens and 25000 target tokens."
   ]
  },
  {
   "cell_type": "markdown",
   "id": "d0b5c7b1",
   "metadata": {
    "id": "d0b5c7b1",
    "incorrectly_encoded_metadata": "id=\"F1mTQatiTsqJ\" jp-MarkdownHeadingCollapsed=true",
    "tags": []
   },
   "source": [
    "## Hardware and Schedule\n",
    "\n",
    "We trained our models on one machine with 8 NVIDIA P100 GPUs.  For\n",
    "our base models using the hyperparameters described throughout the\n",
    "paper, each training step took about 0.4 seconds.  We trained the\n",
    "base models for a total of 100,000 steps or 12 hours. For our big\n",
    "models, step time was 1.0 seconds.  The big models were trained for\n",
    "300,000 steps (3.5 days)."
   ]
  },
  {
   "cell_type": "markdown",
   "id": "3af07c4b",
   "metadata": {
    "id": "3af07c4b"
   },
   "source": [
    "## Optimizer\n",
    "\n",
    "We used the Adam optimizer [(cite)](https://arxiv.org/abs/1412.6980)\n",
    "with $\\beta_1=0.9$, $\\beta_2=0.98$ and $\\epsilon=10^{-9}$.  We\n",
    "varied the learning rate over the course of training, according to\n",
    "the formula:\n",
    "\n",
    "$$\n",
    "lrate = d_{\\text{model}}^{-0.5} \\cdot\n",
    "  \\min({step\\_num}^{-0.5},\n",
    "    {step\\_num} \\cdot {warmup\\_steps}^{-1.5})\n",
    "$$\n",
    "\n",
    "This corresponds to increasing the learning rate linearly for the\n",
    "first $warmup\\_steps$ training steps, and decreasing it thereafter\n",
    "proportionally to the inverse square root of the step number.  We\n",
    "used $warmup\\_steps=4000$."
   ]
  },
  {
   "cell_type": "markdown",
   "id": "760a2716",
   "metadata": {
    "id": "760a2716"
   },
   "source": [
    "\n",
    "> Note: This part is very important. Need to train with this setup\n",
    "> of the model."
   ]
  },
  {
   "cell_type": "markdown",
   "id": "e809dff8",
   "metadata": {
    "id": "e809dff8"
   },
   "source": [
    "\n",
    "> Example of the curves of this model for different model sizes and\n",
    "> for optimization hyperparameters."
   ]
  },
  {
   "cell_type": "code",
   "execution_count": 28,
   "id": "27ded57a",
   "metadata": {
    "execution": {
     "iopub.execute_input": "2022-05-02T01:25:20.906007Z",
     "iopub.status.busy": "2022-05-02T01:25:20.904743Z",
     "iopub.status.idle": "2022-05-02T01:25:20.907701Z",
     "shell.execute_reply": "2022-05-02T01:25:20.907236Z"
    },
    "id": "27ded57a"
   },
   "outputs": [],
   "source": [
    "def rate(step, model_size, factor, warmup):\n",
    "    \"\"\"\n",
    "    we have to default the step to 1 for LambdaLR function\n",
    "    to avoid zero raising to negative power.\n",
    "    \"\"\"\n",
    "    if step == 0:\n",
    "        step = 1\n",
    "    return factor * (\n",
    "        model_size ** (-0.5) * min(step ** (-0.5), step * warmup ** (-1.5))\n",
    "    )"
   ]
  },
  {
   "cell_type": "code",
   "execution_count": 30,
   "id": "77d96f50",
   "metadata": {
    "execution": {
     "iopub.execute_input": "2022-05-02T01:25:22.858827Z",
     "iopub.status.busy": "2022-05-02T01:25:22.858459Z",
     "iopub.status.idle": "2022-05-02T01:25:22.860907Z",
     "shell.execute_reply": "2022-05-02T01:25:22.861184Z"
    },
    "id": "77d96f50",
    "lines_to_next_cell": 2
   },
   "outputs": [],
   "source": [
    "class LabelSmoothing(nn.Module):\n",
    "    \"Implement label smoothing.\"\n",
    "\n",
    "    def __init__(self, size, padding_idx, smoothing=0.0):\n",
    "        super(LabelSmoothing, self).__init__()\n",
    "        self.criterion = nn.KLDivLoss(reduction=\"sum\")\n",
    "        self.padding_idx = padding_idx\n",
    "        self.confidence = 1.0 - smoothing\n",
    "        self.smoothing = smoothing\n",
    "        self.size = size\n",
    "        self.true_dist = None\n",
    "\n",
    "    def forward(self, x, target):\n",
    "        assert x.size(1) == self.size\n",
    "        true_dist = x.data.clone()\n",
    "        true_dist.fill_(self.smoothing / (self.size - 2))\n",
    "        true_dist.scatter_(1, target.data.unsqueeze(1), self.confidence)\n",
    "        true_dist[:, self.padding_idx] = 0\n",
    "        mask = torch.nonzero(target.data == self.padding_idx)\n",
    "        if mask.dim() > 0:\n",
    "            true_dist.index_fill_(0, mask.squeeze(), 0.0)\n",
    "        self.true_dist = true_dist\n",
    "        return self.criterion(x, true_dist.clone().detach())"
   ]
  },
  {
   "cell_type": "markdown",
   "id": "cd102b03",
   "metadata": {
    "id": "cd102b03"
   },
   "source": [
    "\n",
    "> Here we can see an example of how the mass is distributed to the\n",
    "> words based on confidence."
   ]
  },
  {
   "cell_type": "markdown",
   "id": "dd4ba439",
   "metadata": {
    "id": "dd4ba439"
   },
   "source": [
    "\n",
    "> Label smoothing actually starts to penalize the model if it gets\n",
    "> very confident about a given choice."
   ]
  },
  {
   "cell_type": "code",
   "execution_count": 32,
   "id": "7f4936fa",
   "metadata": {
    "colab": {
     "base_uri": "https://localhost:8080/",
     "height": 368
    },
    "execution": {
     "iopub.execute_input": "2022-05-02T01:25:23.195609Z",
     "iopub.status.busy": "2022-05-02T01:25:23.195284Z",
     "iopub.status.idle": "2022-05-02T01:25:23.450431Z",
     "shell.execute_reply": "2022-05-02T01:25:23.451135Z"
    },
    "id": "7f4936fa",
    "outputId": "0a6ae797-4081-4f9c-fd8b-ffb5ce6bf420"
   },
   "outputs": [
    {
     "data": {
      "text/html": [
       "\n",
       "<div id=\"altair-viz-494650274f4c497b80cafcbedeedfcf7\"></div>\n",
       "<script type=\"text/javascript\">\n",
       "  (function(spec, embedOpt){\n",
       "    let outputDiv = document.currentScript.previousElementSibling;\n",
       "    if (outputDiv.id !== \"altair-viz-494650274f4c497b80cafcbedeedfcf7\") {\n",
       "      outputDiv = document.getElementById(\"altair-viz-494650274f4c497b80cafcbedeedfcf7\");\n",
       "    }\n",
       "    const paths = {\n",
       "      \"vega\": \"https://cdn.jsdelivr.net/npm//vega@5?noext\",\n",
       "      \"vega-lib\": \"https://cdn.jsdelivr.net/npm//vega-lib?noext\",\n",
       "      \"vega-lite\": \"https://cdn.jsdelivr.net/npm//vega-lite@4.8.1?noext\",\n",
       "      \"vega-embed\": \"https://cdn.jsdelivr.net/npm//vega-embed@6?noext\",\n",
       "    };\n",
       "\n",
       "    function loadScript(lib) {\n",
       "      return new Promise(function(resolve, reject) {\n",
       "        var s = document.createElement('script');\n",
       "        s.src = paths[lib];\n",
       "        s.async = true;\n",
       "        s.onload = () => resolve(paths[lib]);\n",
       "        s.onerror = () => reject(`Error loading script: ${paths[lib]}`);\n",
       "        document.getElementsByTagName(\"head\")[0].appendChild(s);\n",
       "      });\n",
       "    }\n",
       "\n",
       "    function showError(err) {\n",
       "      outputDiv.innerHTML = `<div class=\"error\" style=\"color:red;\">${err}</div>`;\n",
       "      throw err;\n",
       "    }\n",
       "\n",
       "    function displayChart(vegaEmbed) {\n",
       "      vegaEmbed(outputDiv, spec, embedOpt)\n",
       "        .catch(err => showError(`Javascript Error: ${err.message}<br>This usually means there's a typo in your chart specification. See the javascript console for the full traceback.`));\n",
       "    }\n",
       "\n",
       "    if(typeof define === \"function\" && define.amd) {\n",
       "      requirejs.config({paths});\n",
       "      require([\"vega-embed\"], displayChart, err => showError(`Error loading script: ${err.message}`));\n",
       "    } else if (typeof vegaEmbed === \"function\") {\n",
       "      displayChart(vegaEmbed);\n",
       "    } else {\n",
       "      loadScript(\"vega\")\n",
       "        .then(() => loadScript(\"vega-lite\"))\n",
       "        .then(() => loadScript(\"vega-embed\"))\n",
       "        .catch(showError)\n",
       "        .then(() => displayChart(vegaEmbed));\n",
       "    }\n",
       "  })({\"config\": {\"view\": {\"continuousWidth\": 400, \"continuousHeight\": 300}}, \"data\": {\"name\": \"data-3b15788e82f0008d4eedec2cc847e0f6\"}, \"mark\": \"line\", \"encoding\": {\"x\": {\"type\": \"quantitative\", \"field\": \"Steps\"}, \"y\": {\"type\": \"quantitative\", \"field\": \"Loss\"}}, \"selection\": {\"selector004\": {\"type\": \"interval\", \"bind\": \"scales\", \"encodings\": [\"x\", \"y\"]}}, \"width\": 350, \"$schema\": \"https://vega.github.io/schema/vega-lite/v4.8.1.json\", \"datasets\": {\"data-3b15788e82f0008d4eedec2cc847e0f6\": [{\"Loss\": 0.9513500928878784, \"Steps\": 0.0}, {\"Loss\": 0.5506610870361328, \"Steps\": 1.0}, {\"Loss\": 0.36806410551071167, \"Steps\": 2.0}, {\"Loss\": 0.26330095529556274, \"Steps\": 3.0}, {\"Loss\": 0.19600319862365723, \"Steps\": 4.0}, {\"Loss\": 0.14969676733016968, \"Steps\": 5.0}, {\"Loss\": 0.11632175743579865, \"Steps\": 6.0}, {\"Loss\": 0.09145362675189972, \"Steps\": 7.0}, {\"Loss\": 0.07246030867099762, \"Steps\": 8.0}, {\"Loss\": 0.05767851322889328, \"Steps\": 9.0}, {\"Loss\": 0.04600735753774643, \"Steps\": 10.0}, {\"Loss\": 0.036689966917037964, \"Steps\": 11.0}, {\"Loss\": 0.0291900634765625, \"Steps\": 12.0}, {\"Loss\": 0.02311749756336212, \"Steps\": 13.0}, {\"Loss\": 0.018182365223765373, \"Steps\": 14.0}, {\"Loss\": 0.01416487991809845, \"Steps\": 15.0}, {\"Loss\": 0.010896005667746067, \"Steps\": 16.0}, {\"Loss\": 0.008243615739047527, \"Steps\": 17.0}, {\"Loss\": 0.006103138439357281, \"Steps\": 18.0}, {\"Loss\": 0.004390960559248924, \"Steps\": 19.0}, {\"Loss\": 0.003039402887225151, \"Steps\": 20.0}, {\"Loss\": 0.0019933986477553844, \"Steps\": 21.0}, {\"Loss\": 0.0012075277045369148, \"Steps\": 22.0}, {\"Loss\": 0.0006441792938858271, \"Steps\": 23.0}, {\"Loss\": 0.00027204910293221474, \"Steps\": 24.0}, {\"Loss\": 6.469688378274441e-05, \"Steps\": 25.0}, {\"Loss\": 0.0, \"Steps\": 26.0}, {\"Loss\": 5.8931997045874596e-05, \"Steps\": 27.0}, {\"Loss\": 0.00022542336955666542, \"Steps\": 28.0}, {\"Loss\": 0.00048566749319434166, \"Steps\": 29.0}, {\"Loss\": 0.0008278326131403446, \"Steps\": 30.0}, {\"Loss\": 0.001241522841155529, \"Steps\": 31.0}, {\"Loss\": 0.0017178812995553017, \"Steps\": 32.0}, {\"Loss\": 0.002249208278954029, \"Steps\": 33.0}, {\"Loss\": 0.002828662283718586, \"Steps\": 34.0}, {\"Loss\": 0.003450361080467701, \"Steps\": 35.0}, {\"Loss\": 0.004109090194106102, \"Steps\": 36.0}, {\"Loss\": 0.004800276830792427, \"Steps\": 37.0}, {\"Loss\": 0.0055199358612298965, \"Steps\": 38.0}, {\"Loss\": 0.006264356896281242, \"Steps\": 39.0}, {\"Loss\": 0.00703054666519165, \"Steps\": 40.0}, {\"Loss\": 0.007815608754754066, \"Steps\": 41.0}, {\"Loss\": 0.008617045357823372, \"Steps\": 42.0}, {\"Loss\": 0.009432701393961906, \"Steps\": 43.0}, {\"Loss\": 0.010260546579957008, \"Steps\": 44.0}, {\"Loss\": 0.011098792776465416, \"Steps\": 45.0}, {\"Loss\": 0.011945942416787148, \"Steps\": 46.0}, {\"Loss\": 0.012800488620996475, \"Steps\": 47.0}, {\"Loss\": 0.013661196455359459, \"Steps\": 48.0}, {\"Loss\": 0.014526985585689545, \"Steps\": 49.0}, {\"Loss\": 0.015396779403090477, \"Steps\": 50.0}, {\"Loss\": 0.016269627958536148, \"Steps\": 51.0}, {\"Loss\": 0.017144696786999702, \"Steps\": 52.0}, {\"Loss\": 0.018021374940872192, \"Steps\": 53.0}, {\"Loss\": 0.01889890432357788, \"Steps\": 54.0}, {\"Loss\": 0.019776713103055954, \"Steps\": 55.0}, {\"Loss\": 0.020654210820794106, \"Steps\": 56.0}, {\"Loss\": 0.021530907601118088, \"Steps\": 57.0}, {\"Loss\": 0.022406460717320442, \"Steps\": 58.0}, {\"Loss\": 0.023280372843146324, \"Steps\": 59.0}, {\"Loss\": 0.024152379482984543, \"Steps\": 60.0}, {\"Loss\": 0.0250221099704504, \"Steps\": 61.0}, {\"Loss\": 0.025889279320836067, \"Steps\": 62.0}, {\"Loss\": 0.026753658428788185, \"Steps\": 63.0}, {\"Loss\": 0.027614915743470192, \"Steps\": 64.0}, {\"Loss\": 0.02847300097346306, \"Steps\": 65.0}, {\"Loss\": 0.029327666386961937, \"Steps\": 66.0}, {\"Loss\": 0.03017870895564556, \"Steps\": 67.0}, {\"Loss\": 0.03102605789899826, \"Steps\": 68.0}, {\"Loss\": 0.03186953812837601, \"Steps\": 69.0}, {\"Loss\": 0.032708972692489624, \"Steps\": 70.0}, {\"Loss\": 0.03354441374540329, \"Steps\": 71.0}, {\"Loss\": 0.0343756377696991, \"Steps\": 72.0}, {\"Loss\": 0.03520261496305466, \"Steps\": 73.0}, {\"Loss\": 0.036025337874889374, \"Steps\": 74.0}, {\"Loss\": 0.03684357553720474, \"Steps\": 75.0}, {\"Loss\": 0.03765755146741867, \"Steps\": 76.0}, {\"Loss\": 0.03846696764230728, \"Steps\": 77.0}, {\"Loss\": 0.039271969348192215, \"Steps\": 78.0}, {\"Loss\": 0.040072374045848846, \"Steps\": 79.0}, {\"Loss\": 0.04086829721927643, \"Steps\": 80.0}, {\"Loss\": 0.04165971279144287, \"Steps\": 81.0}, {\"Loss\": 0.04244651645421982, \"Steps\": 82.0}, {\"Loss\": 0.043228790163993835, \"Steps\": 83.0}, {\"Loss\": 0.04400648549199104, \"Steps\": 84.0}, {\"Loss\": 0.04477958753705025, \"Steps\": 85.0}, {\"Loss\": 0.04554816707968712, \"Steps\": 86.0}, {\"Loss\": 0.04631214961409569, \"Steps\": 87.0}, {\"Loss\": 0.04707161709666252, \"Steps\": 88.0}, {\"Loss\": 0.047826580703258514, \"Steps\": 89.0}, {\"Loss\": 0.048577018082141876, \"Steps\": 90.0}, {\"Loss\": 0.049322955310344696, \"Steps\": 91.0}, {\"Loss\": 0.05006442964076996, \"Steps\": 92.0}, {\"Loss\": 0.050801437348127365, \"Steps\": 93.0}, {\"Loss\": 0.051534052938222885, \"Steps\": 94.0}, {\"Loss\": 0.05226223170757294, \"Steps\": 95.0}, {\"Loss\": 0.052986059337854385, \"Steps\": 96.0}, {\"Loss\": 0.05370553210377693, \"Steps\": 97.0}, {\"Loss\": 0.05442074313759804, \"Steps\": 98.0}]}}, {\"mode\": \"vega-lite\"});\n",
       "</script>"
      ],
      "text/plain": [
       "alt.Chart(...)"
      ]
     },
     "execution_count": 32,
     "metadata": {},
     "output_type": "execute_result"
    }
   ],
   "source": [
    "def loss(x, crit):\n",
    "    d = x + 3 * 1\n",
    "    predict = torch.FloatTensor([[0, x / d, 1 / d, 1 / d, 1 / d]])\n",
    "    return crit(predict.log(), torch.LongTensor([1])).data\n"
   ]
  },
  {
   "cell_type": "markdown",
   "id": "33fe4433",
   "metadata": {
    "id": "33fe4433"
   },
   "source": [
    "## Loss Computation"
   ]
  },
  {
   "cell_type": "code",
   "execution_count": 34,
   "id": "4a88cbe5",
   "metadata": {
    "execution": {
     "iopub.execute_input": "2022-05-02T01:25:23.462842Z",
     "iopub.status.busy": "2022-05-02T01:25:23.461999Z",
     "iopub.status.idle": "2022-05-02T01:25:23.464005Z",
     "shell.execute_reply": "2022-05-02T01:25:23.464702Z"
    },
    "id": "4a88cbe5"
   },
   "outputs": [],
   "source": [
    "class SimpleLossCompute:\n",
    "    \"A simple loss compute and train function.\"\n",
    "\n",
    "    def __init__(self, generator, criterion):\n",
    "        self.generator = generator\n",
    "        self.criterion = criterion\n",
    "\n",
    "    def __call__(self, x, y, norm):\n",
    "        x = self.generator(x)\n",
    "        sloss = (\n",
    "            self.criterion(\n",
    "                x.contiguous().view(-1, x.size(-1)), y.contiguous().view(-1)\n",
    "            )\n",
    "            / norm\n",
    "        )\n",
    "        return sloss.data * norm, sloss"
   ]
  },
  {
   "cell_type": "markdown",
   "id": "00b7bdc2",
   "metadata": {
    "id": "00b7bdc2"
   },
   "source": [
    "## Greedy Decoding"
   ]
  },
  {
   "cell_type": "markdown",
   "id": "958119b5",
   "metadata": {
    "id": "958119b5",
    "lines_to_next_cell": 0,
    "tags": []
   },
   "source": [
    "> This code predicts a translation using greedy decoding for simplicity."
   ]
  },
  {
   "cell_type": "code",
   "execution_count": 35,
   "id": "8426fe69",
   "metadata": {
    "execution": {
     "iopub.execute_input": "2022-05-02T01:25:23.470843Z",
     "iopub.status.busy": "2022-05-02T01:25:23.469910Z",
     "iopub.status.idle": "2022-05-02T01:25:23.471795Z",
     "shell.execute_reply": "2022-05-02T01:25:23.472524Z"
    },
    "id": "8426fe69",
    "lines_to_next_cell": 2
   },
   "outputs": [],
   "source": [
    "def greedy_decode(model, src, src_mask, max_len, start_symbol):\n",
    "    memory = model.encode(src, src_mask)\n",
    "    ys = torch.zeros(1, 1).fill_(start_symbol).type_as(src.data)\n",
    "    for i in range(max_len - 1):\n",
    "        out = model.decode(\n",
    "            memory, src_mask, ys, subsequent_mask(ys.size(1)).type_as(src.data)\n",
    "        )\n",
    "        prob = model.generator(out[:, -1])\n",
    "        _, next_word = torch.max(prob, dim=1)\n",
    "        next_word = next_word.data[0]\n",
    "        ys = torch.cat(\n",
    "            [ys, torch.zeros(1, 1).type_as(src.data).fill_(next_word)], dim=1\n",
    "        )\n",
    "    return ys"
   ]
  },
  {
   "cell_type": "markdown",
   "id": "9a439ef0",
   "metadata": {
    "id": "9a439ef0"
   },
   "source": [
    "# Part 3: A Real World Example\n",
    "\n",
    "> Now we consider a real-world example using the Multi30k\n",
    "> German-English Translation task. This task is much smaller than\n",
    "> the WMT task considered in the paper, but it illustrates the whole\n",
    "> system. We also show how to use multi-gpu processing to make it\n",
    "> really fast."
   ]
  },
  {
   "cell_type": "markdown",
   "id": "5873cc90",
   "metadata": {},
   "source": [
    "# Hugging Face tokenizers"
   ]
  },
  {
   "cell_type": "code",
   "execution_count": 38,
   "id": "8adb8e78",
   "metadata": {},
   "outputs": [],
   "source": [
    "device = torch.device(\"cuda:0\" if torch.cuda.is_available() else \"cpu\")\n",
    "from transformers import  AutoTokenizer,GPT2Tokenizer\n",
    "tknzr_de = AutoTokenizer.from_pretrained(\"dbmdz/german-gpt2\")\n",
    "tknzr_de.add_special_tokens({'pad_token': '[PAD]', 'bos_token': '[BOS]', 'eos_token' : '[EOS]', 'unk_token':'[UNK]'})\n",
    "#\n",
    "tknzr_en = GPT2Tokenizer.from_pretrained('gpt2')\n",
    "tknzr_en.add_special_tokens({'pad_token': '[PAD]', 'bos_token': '[BOS]', 'eos_token' : '[EOS]', 'unk_token':'[UNK]'})\n",
    "#\n",
    "padSrc = tknzr_de(tknzr_de.pad_token)['input_ids'][0]\n",
    "padTgt = tknzr_en(tknzr_en.pad_token)['input_ids'][0]\n",
    "#\n",
    "lenSrc = len(tknzr_de)\n",
    "lenTgt = len(tknzr_en)\n",
    "#---------\n",
    "pad_IdDe = torch.tensor(tknzr_de(tknzr_de.pad_token)['input_ids'][0],device = device)\n",
    "bs_idDe = torch.tensor(tknzr_de(tknzr_de.bos_token)['input_ids'][0], device = device)\n",
    "eos_idDe = torch.tensor(tknzr_de(tknzr_de.eos_token)['input_ids'][0], device = device)\n",
    "#\n",
    "pad_IdEn = torch.tensor(tknzr_en(tknzr_en.pad_token)['input_ids'][0], device = device)\n",
    "bs_idEn = torch.tensor(tknzr_en(tknzr_en.bos_token)['input_ids'][0], device = device)\n",
    "eos_idEn = torch.tensor(tknzr_en(tknzr_en.eos_token)['input_ids'][0], device = device)\n",
    "\n",
    "# import from utilsHuggingFace - the input and output dimensions of the encoder and decoder are different"
   ]
  },
  {
   "cell_type": "markdown",
   "id": "1ceb7001",
   "metadata": {
    "id": "1ceb7001",
    "tags": []
   },
   "source": [
    "## Data Loading\n",
    "\n",
    "> We will load the dataset using torchtext and spacy for\n",
    "> tokenization."
   ]
  },
  {
   "cell_type": "code",
   "execution_count": 39,
   "id": "04cbc8fe",
   "metadata": {},
   "outputs": [],
   "source": [
    "from functools import partial\n",
    "from torchtext.datasets import multi30k\n",
    "\n",
    "multi30k.URL[\"train\"] = \"https://raw.githubusercontent.com/neychev/small_DL_repo/master/datasets/Multi30k/training.tar.gz\"\n",
    "multi30k.URL[\"valid\"] = \"https://raw.githubusercontent.com/neychev/small_DL_repo/master/datasets/Multi30k/validation.tar.gz\"\n",
    "multi30k.URL[\"test\"] = \"https://raw.githubusercontent.com/neychev/small_DL_repo/master/datasets/Multi30k/mmt16_task1_test.tar.gz\"\n",
    "\n",
    "multi30k.MD5[\"train\"] = \"20140d013d05dd9a72dfde46478663ba05737ce983f478f960c1123c6671be5e\"\n",
    "multi30k.MD5[\"valid\"] = \"a7aa20e9ebd5ba5adce7909498b94410996040857154dab029851af3a866da8c\"\n",
    "multi30k.MD5[\"test\"] = \"6d1ca1dba99e2c5dd54cae1226ff11c2551e6ce63527ebb072a1f70f72a5cd36\""
   ]
  },
  {
   "cell_type": "markdown",
   "id": "8aa07c06",
   "metadata": {
    "id": "8aa07c06"
   },
   "source": [
    "\n",
    "> Batching matters a ton for speed. We want to have very evenly\n",
    "> divided batches, with absolutely minimal padding. To do this we\n",
    "> have to hack a bit around the default torchtext batching. This\n",
    "> code patches their default batching to make sure we search over\n",
    "> enough sentences to find tight batches."
   ]
  },
  {
   "cell_type": "markdown",
   "id": "f57752f8",
   "metadata": {
    "id": "f57752f8",
    "incorrectly_encoded_metadata": "id=\"kDEj-hCgokC-\" tags=[] jp-MarkdownHeadingCollapsed=true"
   },
   "source": [
    "## Iterators"
   ]
  },
  {
   "cell_type": "code",
   "execution_count": 40,
   "id": "33350048",
   "metadata": {
    "execution": {
     "iopub.execute_input": "2022-05-02T01:25:25.144310Z",
     "iopub.status.busy": "2022-05-02T01:25:25.143931Z",
     "iopub.status.idle": "2022-05-02T01:25:25.146354Z",
     "shell.execute_reply": "2022-05-02T01:25:25.146629Z"
    },
    "id": "33350048",
    "tags": []
   },
   "outputs": [],
   "source": [
    "def collate_batch(\n",
    "    batch,\n",
    "    device,\n",
    "    max_padding=128,\n",
    "    tknzr_de = None,\n",
    "    tknzr_en = None\n",
    "):\n",
    "    #bs_id = torch.tensor([0], device=device)  # <s> token id\n",
    "    #eos_id = torch.tensor([1], device=device)  # </s> token id\n",
    "    src_list, tgt_list = [], []\n",
    "    #------------\n",
    "    for (_src, _tgt) in batch:\n",
    "        processed_src = torch.cat(\n",
    "            [\n",
    "                torch.unsqueeze(torch.tensor(bs_idDe,device=device),dim=0),\n",
    "                torch.tensor(\n",
    "                    tknzr_de(_src)['input_ids'],                                #src_vocab(src_pipeline(_src)),\n",
    "                    dtype=torch.int64,\n",
    "                    device=device,\n",
    "                ),\n",
    "                torch.unsqueeze(torch.tensor(eos_idDe,device=device),dim=0),\n",
    "            ],\n",
    "            0,\n",
    "        )\n",
    "\n",
    "#        processed_src = torch.cat(\n",
    "#            [\n",
    "#                bs_id,\n",
    "#                torch.tensor(\n",
    "#                    src_vocab(src_pipeline(_src)),\n",
    "#                    dtype=torch.int64,\n",
    "#                    device=device,\n",
    "#                ),\n",
    "#                eos_id,\n",
    "#            ],\n",
    "#            0,\n",
    "#        )\n",
    "        processed_tgt = torch.cat(\n",
    "            [\n",
    "                torch.unsqueeze(torch.tensor(bs_idEn,device=device),dim=0),\n",
    "                torch.tensor(\n",
    "                    tknzr_en(_tgt)['input_ids'],                            #tgt_vocab(tgt_pipeline(_tgt)),\n",
    "                    dtype=torch.int64,\n",
    "                    device=device,\n",
    "                ),\n",
    "                torch.unsqueeze(torch.tensor(eos_idEn,device=device),dim=0),\n",
    "                                        ],\n",
    "            0,\n",
    "        )\n",
    "\n",
    "#        processed_tgt = torch.cat(\n",
    "#            [\n",
    "#                bs_id,\n",
    "#                torch.tensor(\n",
    "#                    tgt_vocab(tgt_pipeline(_tgt)),\n",
    "#                    dtype=torch.int64,\n",
    "#                    device=device,\n",
    "#                ),\n",
    "#                eos_id,\n",
    "#            ],\n",
    "#            0,\n",
    "#        )\n",
    "        src_list.append(\n",
    "            # warning - overwrites values for negative values of padding - len\n",
    "            pad(\n",
    "                processed_src,\n",
    "                (\n",
    "                    0,\n",
    "                    max_padding - len(processed_src),\n",
    "                ),\n",
    "                value=pad_IdDe,\n",
    "            )\n",
    "        )\n",
    "        tgt_list.append(\n",
    "            pad(\n",
    "                processed_tgt,\n",
    "                (0, max_padding - len(processed_tgt)),\n",
    "                value=pad_IdEn,\n",
    "            )\n",
    "        )\n",
    "\n",
    "    src = torch.stack(src_list)\n",
    "    tgt = torch.stack(tgt_list)\n",
    "    return (src, tgt)"
   ]
  },
  {
   "cell_type": "code",
   "execution_count": 41,
   "id": "3d94df2f",
   "metadata": {
    "execution": {
     "iopub.execute_input": "2022-05-02T01:25:25.158739Z",
     "iopub.status.busy": "2022-05-02T01:25:25.158133Z",
     "iopub.status.idle": "2022-05-02T01:25:25.160905Z",
     "shell.execute_reply": "2022-05-02T01:25:25.160371Z"
    },
    "id": "3d94df2f",
    "tags": []
   },
   "outputs": [],
   "source": [
    "def create_dataloaders(\n",
    "    device,\n",
    "    batch_size=12000,\n",
    "    max_padding=128,\n",
    "    is_distributed=True\n",
    "):\n",
    "    def collate_fn(batch):\n",
    "        return collate_batch(\n",
    "            batch,\n",
    "            device,\n",
    "            max_padding=max_padding,\n",
    "            tknzr_de=tknzr_de,\n",
    "            tknzr_en=tknzr_en\n",
    "        )\n",
    "\n",
    "    train_iter, valid_iter, test_iter = datasets.Multi30k(\n",
    "        language_pair=(\"de\", \"en\")\n",
    "    )\n",
    "\n",
    "    train_iter_map = to_map_style_dataset(\n",
    "        train_iter\n",
    "    )  # DistributedSampler needs a dataset len()\n",
    "    train_sampler = (\n",
    "        DistributedSampler(train_iter_map) if is_distributed else None\n",
    "    )\n",
    "    valid_iter_map = to_map_style_dataset(valid_iter)\n",
    "    valid_sampler = (\n",
    "        DistributedSampler(valid_iter_map) if is_distributed else None\n",
    "    )\n",
    "\n",
    "    train_dataloader = DataLoader(\n",
    "        train_iter_map,\n",
    "        batch_size=batch_size,\n",
    "        shuffle=(train_sampler is None),\n",
    "        sampler=train_sampler,\n",
    "        collate_fn=collate_fn,\n",
    "    )\n",
    "    valid_dataloader = DataLoader(\n",
    "        valid_iter_map,\n",
    "        batch_size=batch_size,\n",
    "        shuffle=(valid_sampler is None),\n",
    "        sampler=valid_sampler,\n",
    "        collate_fn=collate_fn,\n",
    "    )\n",
    "    return train_dataloader, valid_dataloader"
   ]
  },
  {
   "cell_type": "markdown",
   "id": "852a5240",
   "metadata": {
    "id": "852a5240"
   },
   "source": [
    "## Training the System"
   ]
  },
  {
   "cell_type": "code",
   "execution_count": 42,
   "id": "1b763750",
   "metadata": {
    "execution": {
     "iopub.execute_input": "2022-05-02T01:25:25.181295Z",
     "iopub.status.busy": "2022-05-02T01:25:25.180613Z",
     "iopub.status.idle": "2022-05-02T01:25:25.183519Z",
     "shell.execute_reply": "2022-05-02T01:25:25.183983Z"
    },
    "id": "1b763750"
   },
   "outputs": [],
   "source": [
    "def train_worker(\n",
    "    gpu,\n",
    "    ngpus_per_node,\n",
    "    config,\n",
    "    is_distributed=False,\n",
    "):\n",
    "    print(f\"Train worker process using GPU: {gpu} for training\", flush=True)\n",
    "    d_model = 512\n",
    "    model = make_model(lenSrc, lenTgt, N=6)\n",
    "    model.to(device)\n",
    "    print(f\"Device is {device}\")\n",
    "    module = model\n",
    "    is_main_process = True\n",
    "    if is_distributed:\n",
    "        dist.init_process_group(\n",
    "            \"nccl\", init_method=\"env://\", rank=gpu, world_size=ngpus_per_node\n",
    "        )\n",
    "        model = DDP(model, device_ids=[None])\n",
    "        module = model.module\n",
    "        is_main_process = gpu == 0\n",
    "\n",
    "    criterion = LabelSmoothing(\n",
    "        size=lenTgt, padding_idx=tknzr_en(tknzr_en.pad_token)['input_ids'][0], smoothing=0.1\n",
    "    )\n",
    "    if device == \"cuda:0\":\n",
    "        criterion.cuda(gpu)\n",
    "\n",
    "    train_dataloader, valid_dataloader = create_dataloaders(\n",
    "        device,\n",
    "        batch_size=config[\"batch_size\"] // ngpus_per_node,\n",
    "        max_padding=config[\"max_padding\"],\n",
    "        is_distributed=is_distributed,\n",
    "    )\n",
    "    print(next(model.parameters()).is_cuda) \n",
    "    optimizer = torch.optim.Adam(\n",
    "        model.parameters(), lr=config[\"base_lr\"], betas=(0.9, 0.98), eps=1e-9\n",
    "    )\n",
    "    lr_scheduler = LambdaLR(\n",
    "        optimizer=optimizer,\n",
    "        lr_lambda=lambda step: rate(\n",
    "            step, d_model, factor=1, warmup=config[\"warmup\"]\n",
    "        ),\n",
    "    )\n",
    "    train_state = TrainState()\n",
    "\n",
    "    for epoch in range(config[\"num_epochs\"]):\n",
    "        if is_distributed:\n",
    "            train_dataloader.sampler.set_epoch(epoch)\n",
    "            valid_dataloader.sampler.set_epoch(epoch)\n",
    "\n",
    "        model.train()\n",
    "        print(f\"[GPU{gpu}] Epoch {epoch} Training ====\", flush=True)\n",
    "        _, train_state = run_epoch(\n",
    "            (Batch(b[0], b[1], padSrc, padTgt) for b in train_dataloader),\n",
    "            model,\n",
    "            SimpleLossCompute(module.generator, criterion),\n",
    "            optimizer,\n",
    "            lr_scheduler,\n",
    "            mode=\"train+log\",\n",
    "            accum_iter=config[\"accum_iter\"],\n",
    "            train_state=train_state,\n",
    "        )\n",
    "\n",
    "        if device == \"cuda:0\":\n",
    "            GPUtil.showUtilization()\n",
    "            if is_main_process:\n",
    "                file_path = \"%s%.2d.pt\" % (config[\"file_prefix\"], epoch)\n",
    "                torch.save(module.state_dict(), file_path)\n",
    "            torch.cuda.empty_cache()\n",
    "\n",
    "        print(f\"[GPU{gpu}] Epoch {epoch} Validation ====\", flush=True)\n",
    "        model.eval()\n",
    "        sloss = run_epoch(\n",
    "            (Batch(b[0], b[1], padSrc, padTgt) for b in valid_dataloader),\n",
    "            model,\n",
    "            SimpleLossCompute(module.generator, criterion),\n",
    "            DummyOptimizer(),\n",
    "            DummyScheduler(),\n",
    "            mode=\"eval\",\n",
    "        )\n",
    "        print(sloss)\n",
    "        if device == \"cuda:0\":\n",
    "            torch.cuda.empty_cache()\n",
    "\n",
    "    if is_main_process:\n",
    "        file_path = \"%sfinal.pt\" % config[\"file_prefix\"]\n",
    "        torch.save(module.state_dict(), file_path)"
   ]
  },
  {
   "cell_type": "code",
   "execution_count": 43,
   "id": "e81a913b",
   "metadata": {
    "execution": {
     "iopub.execute_input": "2022-05-02T01:25:25.195835Z",
     "iopub.status.busy": "2022-05-02T01:25:25.194849Z",
     "iopub.status.idle": "2022-05-02T01:25:28.698817Z",
     "shell.execute_reply": "2022-05-02T01:25:28.699555Z"
    },
    "id": "e81a913b",
    "lines_to_next_cell": 2,
    "tags": []
   },
   "outputs": [
    {
     "name": "stdout",
     "output_type": "stream",
     "text": [
      "Train worker process using GPU: 0 for training\n",
      "Device is cpu\n",
      "False\n",
      "[GPU0] Epoch 0 Training ====\n",
      "Epoch Step:      1 | Accumulation Step:   1 | Loss:   9.42 | Tokens / Sec:    78.4 | Learning Rate: 5.4e-07\n",
      "Epoch Step:     41 | Accumulation Step:   5 | Loss:   9.34 | Tokens / Sec:    83.7 | Learning Rate: 1.1e-05\n",
      "Epoch Step:     81 | Accumulation Step:   9 | Loss:   9.17 | Tokens / Sec:    84.5 | Learning Rate: 2.2e-05\n",
      "Epoch Step:    121 | Accumulation Step:  13 | Loss:   9.05 | Tokens / Sec:    83.5 | Learning Rate: 3.3e-05\n",
      "Epoch Step:    161 | Accumulation Step:  17 | Loss:   8.91 | Tokens / Sec:    82.9 | Learning Rate: 4.4e-05\n",
      "Epoch Step:    201 | Accumulation Step:  21 | Loss:   8.78 | Tokens / Sec:    80.2 | Learning Rate: 5.4e-05\n",
      "Epoch Step:    241 | Accumulation Step:  25 | Loss:   8.61 | Tokens / Sec:    81.8 | Learning Rate: 6.5e-05\n",
      "Epoch Step:    281 | Accumulation Step:  29 | Loss:   8.44 | Tokens / Sec:    83.6 | Learning Rate: 7.6e-05\n",
      "Epoch Step:    321 | Accumulation Step:  33 | Loss:   8.21 | Tokens / Sec:    83.7 | Learning Rate: 8.7e-05\n",
      "Epoch Step:    361 | Accumulation Step:  37 | Loss:   7.91 | Tokens / Sec:    84.5 | Learning Rate: 9.7e-05\n",
      "Epoch Step:    401 | Accumulation Step:  41 | Loss:   7.66 | Tokens / Sec:    83.6 | Learning Rate: 1.1e-04\n",
      "Epoch Step:    441 | Accumulation Step:  45 | Loss:   7.37 | Tokens / Sec:    83.9 | Learning Rate: 1.2e-04\n",
      "Epoch Step:    481 | Accumulation Step:  49 | Loss:   7.04 | Tokens / Sec:    81.1 | Learning Rate: 1.3e-04\n",
      "Epoch Step:    521 | Accumulation Step:  53 | Loss:   6.74 | Tokens / Sec:    80.7 | Learning Rate: 1.4e-04\n",
      "Epoch Step:    561 | Accumulation Step:  57 | Loss:   6.38 | Tokens / Sec:    84.1 | Learning Rate: 1.5e-04\n",
      "Epoch Step:    601 | Accumulation Step:  61 | Loss:   6.14 | Tokens / Sec:    84.2 | Learning Rate: 1.6e-04\n",
      "Epoch Step:    641 | Accumulation Step:  65 | Loss:   5.90 | Tokens / Sec:    85.4 | Learning Rate: 1.7e-04\n",
      "Epoch Step:    681 | Accumulation Step:  69 | Loss:   5.73 | Tokens / Sec:    79.2 | Learning Rate: 1.8e-04\n",
      "Epoch Step:    721 | Accumulation Step:  73 | Loss:   5.27 | Tokens / Sec:    81.1 | Learning Rate: 1.9e-04\n",
      "Epoch Step:    761 | Accumulation Step:  77 | Loss:   5.26 | Tokens / Sec:    81.2 | Learning Rate: 2.0e-04\n",
      "Epoch Step:    801 | Accumulation Step:  81 | Loss:   5.08 | Tokens / Sec:    80.7 | Learning Rate: 2.2e-04\n",
      "Epoch Step:    841 | Accumulation Step:  85 | Loss:   5.05 | Tokens / Sec:    83.9 | Learning Rate: 2.3e-04\n",
      "Epoch Step:    881 | Accumulation Step:  89 | Loss:   4.88 | Tokens / Sec:    85.2 | Learning Rate: 2.4e-04\n",
      "[GPU0] Epoch 0 Validation ====\n",
      "(tensor(4.7922), <__main__.TrainState object at 0x000001C8411E7250>)\n"
     ]
    }
   ],
   "source": [
    "def train_distributed_model(vocab_src, vocab_tgt,  config):\n",
    "    from the_annotated_transformer import train_worker\n",
    "\n",
    "    ngpus = torch.cuda.device_count()\n",
    "    os.environ[\"MASTER_ADDR\"] = \"localhost\"\n",
    "    os.environ[\"MASTER_PORT\"] = \"12356\"\n",
    "    print(f\"Number of GPUs detected: {ngpus}\")\n",
    "    print(\"Spawning training processes ...\")\n",
    "    mp.spawn(\n",
    "        train_worker,\n",
    "        nprocs=ngpus,\n",
    "        args=(ngpus, vocab_src, vocab_tgt, config, True),\n",
    "    )\n",
    "\n",
    "\n",
    "def train_model(vocab_src, vocab_tgt,  config):\n",
    "    if config[\"distributed\"]:\n",
    "        train_distributed_model(\n",
    "            vocab_src, vocab_tgt,  config\n",
    "        )\n",
    "    else:\n",
    "        train_worker(\n",
    "            0, 1,  config, False\n",
    "        )\n",
    "\n",
    "        #train_worker(\n",
    "        #    0, 1, vocab_src, vocab_tgt, spacy_de, spacy_en, config, False\n",
    "        #)\n",
    "\n",
    "\n",
    "def load_trained_model():\n",
    "    config = {\n",
    "        \"batch_size\": 32,\n",
    "        \"distributed\": False,\n",
    "        \"num_epochs\": 1,\n",
    "        \"accum_iter\": 10,\n",
    "        \"base_lr\": 1.0,\n",
    "        \"max_padding\": 72,\n",
    "        \"warmup\": 3000,\n",
    "        \"file_prefix\": \"multi30k_model_\",\n",
    "    }\n",
    "    model_path = \"multi30k_model_final.pt\"\n",
    "    if not exists(model_path):\n",
    "        train_model(lenSrc, lenTgt, config)\n",
    "\n",
    "    model = make_model(lenSrc, lenTgt, N=6)\n",
    "    model.load_state_dict(torch.load(\"multi30k_model_final.pt\"))\n",
    "    return model\n",
    "\n",
    "\n",
    "if is_interactive_notebook():\n",
    "    model = load_trained_model()"
   ]
  },
  {
   "cell_type": "markdown",
   "id": "89c1a1dd",
   "metadata": {
    "id": "89c1a1dd"
   },
   "source": [
    "\n",
    "> Once trained we can decode the model to produce a set of\n",
    "> translations. Here we simply translate the first sentence in the\n",
    "> validation set. This dataset is pretty small so the translations\n",
    "> with greedy search are reasonably accurate."
   ]
  },
  {
   "cell_type": "markdown",
   "id": "678f1a78",
   "metadata": {
    "id": "678f1a78"
   },
   "source": [
    "# Additional Components: BPE, Search, Averaging"
   ]
  },
  {
   "cell_type": "markdown",
   "id": "907b7d56",
   "metadata": {
    "id": "907b7d56"
   },
   "source": [
    "\n",
    "> So this mostly covers the transformer model itself. There are four\n",
    "> aspects that we didn't cover explicitly. We also have all these\n",
    "> additional features implemented in\n",
    "> [OpenNMT-py](https://github.com/opennmt/opennmt-py).\n",
    "\n"
   ]
  },
  {
   "cell_type": "markdown",
   "id": "34851e8d",
   "metadata": {
    "id": "34851e8d"
   },
   "source": [
    "\n",
    "> 1) BPE/ Word-piece: We can use a library to first preprocess the\n",
    "> data into subword units. See Rico Sennrich's\n",
    "> [subword-nmt](https://github.com/rsennrich/subword-nmt)\n",
    "> implementation. These models will transform the training data to\n",
    "> look like this:"
   ]
  },
  {
   "cell_type": "markdown",
   "id": "ba54e3b3",
   "metadata": {
    "id": "ba54e3b3"
   },
   "source": [
    "▁Die ▁Protokoll datei ▁kann ▁ heimlich ▁per ▁E - Mail ▁oder ▁FTP\n",
    "▁an ▁einen ▁bestimmte n ▁Empfänger ▁gesendet ▁werden ."
   ]
  },
  {
   "cell_type": "markdown",
   "id": "5a547f60",
   "metadata": {
    "id": "5a547f60"
   },
   "source": [
    "\n",
    "> 2) Shared Embeddings: When using BPE with shared vocabulary we can\n",
    "> share the same weight vectors between the source / target /\n",
    "> generator. See the [(cite)](https://arxiv.org/abs/1608.05859) for\n",
    "> details. To add this to the model simply do this:"
   ]
  },
  {
   "cell_type": "code",
   "execution_count": 44,
   "id": "ccf619cc",
   "metadata": {
    "execution": {
     "iopub.execute_input": "2022-05-02T01:25:28.707177Z",
     "iopub.status.busy": "2022-05-02T01:25:28.706316Z",
     "iopub.status.idle": "2022-05-02T01:25:28.710001Z",
     "shell.execute_reply": "2022-05-02T01:25:28.710283Z"
    },
    "id": "ccf619cc",
    "tags": []
   },
   "outputs": [],
   "source": [
    "if False:\n",
    "    model.src_embed[0].lut.weight = model.tgt_embeddings[0].lut.weight\n",
    "    model.generator.lut.weight = model.tgt_embed[0].lut.weight"
   ]
  },
  {
   "cell_type": "markdown",
   "id": "925a33d8",
   "metadata": {
    "id": "925a33d8"
   },
   "source": [
    "\n",
    "> 3) Beam Search: This is a bit too complicated to cover here. See the\n",
    "> [OpenNMT-py](https://github.com/OpenNMT/OpenNMT-py/)\n",
    "> for a pytorch implementation.\n",
    ">\n"
   ]
  },
  {
   "cell_type": "markdown",
   "id": "ca2ec347",
   "metadata": {
    "id": "ca2ec347"
   },
   "source": [
    "\n",
    "> 4) Model Averaging: The paper averages the last k checkpoints to\n",
    "> create an ensembling effect. We can do this after the fact if we\n",
    "> have a bunch of models:"
   ]
  },
  {
   "cell_type": "code",
   "execution_count": 45,
   "id": "7733ce32",
   "metadata": {
    "execution": {
     "iopub.execute_input": "2022-05-02T01:25:28.716071Z",
     "iopub.status.busy": "2022-05-02T01:25:28.715714Z",
     "iopub.status.idle": "2022-05-02T01:25:28.718389Z",
     "shell.execute_reply": "2022-05-02T01:25:28.717999Z"
    },
    "id": "7733ce32",
    "lines_to_next_cell": 2
   },
   "outputs": [],
   "source": [
    "def average(model, models):\n",
    "    \"Average models into model\"\n",
    "    for ps in zip(*[m.params() for m in [model] + models]):\n",
    "        ps[0].copy_(torch.sum(*ps[1:]) / len(ps[1:]))"
   ]
  },
  {
   "cell_type": "markdown",
   "id": "34f23a5f",
   "metadata": {
    "id": "34f23a5f"
   },
   "source": [
    "# Results\n",
    "\n",
    "On the WMT 2014 English-to-German translation task, the big\n",
    "transformer model (Transformer (big) in Table 2) outperforms the\n",
    "best previously reported models (including ensembles) by more than\n",
    "2.0 BLEU, establishing a new state-of-the-art BLEU score of\n",
    "28.4. The configuration of this model is listed in the bottom line\n",
    "of Table 3. Training took 3.5 days on 8 P100 GPUs. Even our base\n",
    "model surpasses all previously published models and ensembles, at a\n",
    "fraction of the training cost of any of the competitive models.\n",
    "\n",
    "On the WMT 2014 English-to-French translation task, our big model\n",
    "achieves a BLEU score of 41.0, outperforming all of the previously\n",
    "published single models, at less than 1/4 the training cost of the\n",
    "previous state-of-the-art model. The Transformer (big) model trained\n",
    "for English-to-French used dropout rate Pdrop = 0.1, instead of 0.3.\n"
   ]
  },
  {
   "cell_type": "markdown",
   "id": "944ff4c2",
   "metadata": {
    "id": "944ff4c2"
   },
   "source": [
    "![](https://github.com/harvardnlp/annotated-transformer/blob/master/images/results.png?raw=1)"
   ]
  },
  {
   "cell_type": "markdown",
   "id": "ca35090c",
   "metadata": {
    "id": "ca35090c"
   },
   "source": [
    "\n",
    "\n",
    "> With the addtional extensions in the last section, the OpenNMT-py\n",
    "> replication gets to 26.9 on EN-DE WMT. Here I have loaded in those\n",
    "> parameters to our reimplemenation."
   ]
  },
  {
   "cell_type": "code",
   "execution_count": 48,
   "id": "6deb2571",
   "metadata": {
    "execution": {
     "iopub.execute_input": "2022-05-02T01:25:28.732320Z",
     "iopub.status.busy": "2022-05-02T01:25:28.726845Z",
     "iopub.status.idle": "2022-05-02T01:25:28.742979Z",
     "shell.execute_reply": "2022-05-02T01:25:28.742276Z"
    },
    "id": "6deb2571",
    "lines_to_next_cell": 2
   },
   "outputs": [
    {
     "name": "stdout",
     "output_type": "stream",
     "text": [
      "Preparing Data ...\n",
      "Loading Trained Model ...\n",
      "Checking Model Outputs:\n",
      "\n",
      "Example 0 ========\n",
      "\n",
      "Source Text (Input)        : [BOS] Eine  Frau  und  ein  kleines  Kind  haben  Spaß  bei  einem  Brett spiel . [EOS]\n",
      "Target Text (Ground Truth) : [BOS] A  woman  and  a  young  child  has  fun  while  playing  a  board  game . [EOS]\n"
     ]
    },
    {
     "ename": "RuntimeError",
     "evalue": "Boolean value of Tensor with more than one value is ambiguous",
     "output_type": "error",
     "traceback": [
      "\u001b[1;31m---------------------------------------------------------------------------\u001b[0m",
      "\u001b[1;31mRuntimeError\u001b[0m                              Traceback (most recent call last)",
      "Cell \u001b[1;32mIn[48], line 65\u001b[0m\n\u001b[0;32m     59\u001b[0m     example_data \u001b[38;5;241m=\u001b[39m check_outputs(\n\u001b[0;32m     60\u001b[0m         valid_dataloader, model, tknzr_de, tknzr_en, n_examples\u001b[38;5;241m=\u001b[39mn_examples\n\u001b[0;32m     61\u001b[0m     )\n\u001b[0;32m     62\u001b[0m     \u001b[38;5;28;01mreturn\u001b[39;00m model, example_data\n\u001b[1;32m---> 65\u001b[0m \u001b[43mexecute_example\u001b[49m\u001b[43m(\u001b[49m\u001b[43mrun_model_example\u001b[49m\u001b[43m)\u001b[49m\n",
      "Cell \u001b[1;32mIn[5], line 13\u001b[0m, in \u001b[0;36mexecute_example\u001b[1;34m(fn, args)\u001b[0m\n\u001b[0;32m     11\u001b[0m \u001b[38;5;28;01mdef\u001b[39;00m \u001b[38;5;21mexecute_example\u001b[39m(fn, args\u001b[38;5;241m=\u001b[39m[]):\n\u001b[0;32m     12\u001b[0m     \u001b[38;5;28;01mif\u001b[39;00m \u001b[38;5;18m__name__\u001b[39m \u001b[38;5;241m==\u001b[39m \u001b[38;5;124m\"\u001b[39m\u001b[38;5;124m__main__\u001b[39m\u001b[38;5;124m\"\u001b[39m \u001b[38;5;129;01mand\u001b[39;00m RUN_EXAMPLES:\n\u001b[1;32m---> 13\u001b[0m         \u001b[43mfn\u001b[49m\u001b[43m(\u001b[49m\u001b[38;5;241;43m*\u001b[39;49m\u001b[43margs\u001b[49m\u001b[43m)\u001b[49m\n",
      "Cell \u001b[1;32mIn[48], line 59\u001b[0m, in \u001b[0;36mrun_model_example\u001b[1;34m(n_examples)\u001b[0m\n\u001b[0;32m     54\u001b[0m model\u001b[38;5;241m.\u001b[39mload_state_dict(\n\u001b[0;32m     55\u001b[0m     torch\u001b[38;5;241m.\u001b[39mload(\u001b[38;5;124m\"\u001b[39m\u001b[38;5;124mmulti30k_model_final.pt\u001b[39m\u001b[38;5;124m\"\u001b[39m, map_location\u001b[38;5;241m=\u001b[39mdevice)\n\u001b[0;32m     56\u001b[0m )\n\u001b[0;32m     58\u001b[0m \u001b[38;5;28mprint\u001b[39m(\u001b[38;5;124m\"\u001b[39m\u001b[38;5;124mChecking Model Outputs:\u001b[39m\u001b[38;5;124m\"\u001b[39m)\n\u001b[1;32m---> 59\u001b[0m example_data \u001b[38;5;241m=\u001b[39m \u001b[43mcheck_outputs\u001b[49m\u001b[43m(\u001b[49m\n\u001b[0;32m     60\u001b[0m \u001b[43m    \u001b[49m\u001b[43mvalid_dataloader\u001b[49m\u001b[43m,\u001b[49m\u001b[43m \u001b[49m\u001b[43mmodel\u001b[49m\u001b[43m,\u001b[49m\u001b[43m \u001b[49m\u001b[43mtknzr_de\u001b[49m\u001b[43m,\u001b[49m\u001b[43m \u001b[49m\u001b[43mtknzr_en\u001b[49m\u001b[43m,\u001b[49m\u001b[43m \u001b[49m\u001b[43mn_examples\u001b[49m\u001b[38;5;241;43m=\u001b[39;49m\u001b[43mn_examples\u001b[49m\n\u001b[0;32m     61\u001b[0m \u001b[43m\u001b[49m\u001b[43m)\u001b[49m\n\u001b[0;32m     62\u001b[0m \u001b[38;5;28;01mreturn\u001b[39;00m model, example_data\n",
      "Cell \u001b[1;32mIn[48], line 31\u001b[0m, in \u001b[0;36mcheck_outputs\u001b[1;34m(valid_dataloader, model, tknzr_de, tknzr_en, n_examples, eos_string)\u001b[0m\n\u001b[0;32m     24\u001b[0m \u001b[38;5;28mprint\u001b[39m(\n\u001b[0;32m     25\u001b[0m     \u001b[38;5;124m\"\u001b[39m\u001b[38;5;124mTarget Text (Ground Truth) : \u001b[39m\u001b[38;5;124m\"\u001b[39m\n\u001b[0;32m     26\u001b[0m     \u001b[38;5;241m+\u001b[39m \u001b[38;5;124m\"\u001b[39m\u001b[38;5;124m \u001b[39m\u001b[38;5;124m\"\u001b[39m\u001b[38;5;241m.\u001b[39mjoin(tgt_tokens)\u001b[38;5;241m.\u001b[39mreplace(\u001b[38;5;124m\"\u001b[39m\u001b[38;5;130;01m\\n\u001b[39;00m\u001b[38;5;124m\"\u001b[39m, \u001b[38;5;124m\"\u001b[39m\u001b[38;5;124m\"\u001b[39m)\n\u001b[0;32m     27\u001b[0m )\n\u001b[0;32m     28\u001b[0m model_out \u001b[38;5;241m=\u001b[39m greedy_decode(model, rb\u001b[38;5;241m.\u001b[39msrc, rb\u001b[38;5;241m.\u001b[39msrc_mask, \u001b[38;5;241m72\u001b[39m, start_symbol\u001b[38;5;241m=\u001b[39mtknzr_en(tknzr_en\u001b[38;5;241m.\u001b[39mbos_token)[\u001b[38;5;124m'\u001b[39m\u001b[38;5;124minput_ids\u001b[39m\u001b[38;5;124m'\u001b[39m][\u001b[38;5;241m0\u001b[39m])\n\u001b[0;32m     29\u001b[0m model_txt \u001b[38;5;241m=\u001b[39m (\n\u001b[0;32m     30\u001b[0m     \u001b[38;5;124m\"\u001b[39m\u001b[38;5;124m \u001b[39m\u001b[38;5;124m\"\u001b[39m\u001b[38;5;241m.\u001b[39mjoin(\n\u001b[1;32m---> 31\u001b[0m         [tknzr_en\u001b[38;5;241m.\u001b[39mdecode(x) \u001b[38;5;28;01mfor\u001b[39;00m x \u001b[38;5;129;01min\u001b[39;00m model_out \u001b[38;5;28;01mif\u001b[39;00m x \u001b[38;5;241m!=\u001b[39m padTgt]\n\u001b[0;32m     32\u001b[0m     )\u001b[38;5;241m.\u001b[39msplit(eos_string, \u001b[38;5;241m1\u001b[39m)[\u001b[38;5;241m0\u001b[39m]\n\u001b[0;32m     33\u001b[0m     \u001b[38;5;241m+\u001b[39m eos_string\n\u001b[0;32m     34\u001b[0m )\n\u001b[0;32m     35\u001b[0m \u001b[38;5;28mprint\u001b[39m(\u001b[38;5;124m\"\u001b[39m\u001b[38;5;124mModel Output               : \u001b[39m\u001b[38;5;124m\"\u001b[39m \u001b[38;5;241m+\u001b[39m model_txt\u001b[38;5;241m.\u001b[39mreplace(\u001b[38;5;124m\"\u001b[39m\u001b[38;5;130;01m\\n\u001b[39;00m\u001b[38;5;124m\"\u001b[39m, \u001b[38;5;124m\"\u001b[39m\u001b[38;5;124m\"\u001b[39m))\n\u001b[0;32m     36\u001b[0m results[idx] \u001b[38;5;241m=\u001b[39m (rb, src_tokens, tgt_tokens, model_out, model_txt)\n",
      "Cell \u001b[1;32mIn[48], line 31\u001b[0m, in \u001b[0;36m<listcomp>\u001b[1;34m(.0)\u001b[0m\n\u001b[0;32m     24\u001b[0m \u001b[38;5;28mprint\u001b[39m(\n\u001b[0;32m     25\u001b[0m     \u001b[38;5;124m\"\u001b[39m\u001b[38;5;124mTarget Text (Ground Truth) : \u001b[39m\u001b[38;5;124m\"\u001b[39m\n\u001b[0;32m     26\u001b[0m     \u001b[38;5;241m+\u001b[39m \u001b[38;5;124m\"\u001b[39m\u001b[38;5;124m \u001b[39m\u001b[38;5;124m\"\u001b[39m\u001b[38;5;241m.\u001b[39mjoin(tgt_tokens)\u001b[38;5;241m.\u001b[39mreplace(\u001b[38;5;124m\"\u001b[39m\u001b[38;5;130;01m\\n\u001b[39;00m\u001b[38;5;124m\"\u001b[39m, \u001b[38;5;124m\"\u001b[39m\u001b[38;5;124m\"\u001b[39m)\n\u001b[0;32m     27\u001b[0m )\n\u001b[0;32m     28\u001b[0m model_out \u001b[38;5;241m=\u001b[39m greedy_decode(model, rb\u001b[38;5;241m.\u001b[39msrc, rb\u001b[38;5;241m.\u001b[39msrc_mask, \u001b[38;5;241m72\u001b[39m, start_symbol\u001b[38;5;241m=\u001b[39mtknzr_en(tknzr_en\u001b[38;5;241m.\u001b[39mbos_token)[\u001b[38;5;124m'\u001b[39m\u001b[38;5;124minput_ids\u001b[39m\u001b[38;5;124m'\u001b[39m][\u001b[38;5;241m0\u001b[39m])\n\u001b[0;32m     29\u001b[0m model_txt \u001b[38;5;241m=\u001b[39m (\n\u001b[0;32m     30\u001b[0m     \u001b[38;5;124m\"\u001b[39m\u001b[38;5;124m \u001b[39m\u001b[38;5;124m\"\u001b[39m\u001b[38;5;241m.\u001b[39mjoin(\n\u001b[1;32m---> 31\u001b[0m         [tknzr_en\u001b[38;5;241m.\u001b[39mdecode(x) \u001b[38;5;28;01mfor\u001b[39;00m x \u001b[38;5;129;01min\u001b[39;00m model_out \u001b[38;5;28;01mif\u001b[39;00m \u001b[43mx\u001b[49m\u001b[43m \u001b[49m\u001b[38;5;241;43m!=\u001b[39;49m\u001b[43m \u001b[49m\u001b[43mpadTgt\u001b[49m]\n\u001b[0;32m     32\u001b[0m     )\u001b[38;5;241m.\u001b[39msplit(eos_string, \u001b[38;5;241m1\u001b[39m)[\u001b[38;5;241m0\u001b[39m]\n\u001b[0;32m     33\u001b[0m     \u001b[38;5;241m+\u001b[39m eos_string\n\u001b[0;32m     34\u001b[0m )\n\u001b[0;32m     35\u001b[0m \u001b[38;5;28mprint\u001b[39m(\u001b[38;5;124m\"\u001b[39m\u001b[38;5;124mModel Output               : \u001b[39m\u001b[38;5;124m\"\u001b[39m \u001b[38;5;241m+\u001b[39m model_txt\u001b[38;5;241m.\u001b[39mreplace(\u001b[38;5;124m\"\u001b[39m\u001b[38;5;130;01m\\n\u001b[39;00m\u001b[38;5;124m\"\u001b[39m, \u001b[38;5;124m\"\u001b[39m\u001b[38;5;124m\"\u001b[39m))\n\u001b[0;32m     36\u001b[0m results[idx] \u001b[38;5;241m=\u001b[39m (rb, src_tokens, tgt_tokens, model_out, model_txt)\n",
      "\u001b[1;31mRuntimeError\u001b[0m: Boolean value of Tensor with more than one value is ambiguous"
     ]
    }
   ],
   "source": [
    "def check_outputs(\n",
    "    valid_dataloader,\n",
    "    model,\n",
    "    tknzr_de,\n",
    "    tknzr_en,\n",
    "    n_examples=15,\n",
    "    eos_string=tknzr_en.eos_token,\n",
    "):\n",
    "    results = [()] * n_examples\n",
    "    padSrc = tknzr_de(tknzr_de.pad_token)['input_ids'][0]\n",
    "    padTgt = tknzr_en(tknzr_en.pad_token)['input_ids'][0]\n",
    "\n",
    "    for idx in range(n_examples):\n",
    "        print(\"\\nExample %d ========\\n\" % idx)\n",
    "        b = next(iter(valid_dataloader))\n",
    "        rb = Batch(b[0], b[1], padSrc, padTgt)\n",
    "        src_tokens = [tknzr_de.decode(x) for x in rb.src[0] if x!= padSrc]\n",
    "        tgt_tokens = [tknzr_en.decode(x) for x in rb.tgt[0] if x!= padTgt]\n",
    "\n",
    "        print(\n",
    "            \"Source Text (Input)        : \"\n",
    "            + \" \".join(src_tokens).replace(\"\\n\", \"\")\n",
    "        )\n",
    "        print(\n",
    "            \"Target Text (Ground Truth) : \"\n",
    "            + \" \".join(tgt_tokens).replace(\"\\n\", \"\")\n",
    "        )\n",
    "        model_out = greedy_decode(model, rb.src, rb.src_mask, 72, start_symbol=tknzr_en(tknzr_en.bos_token)['input_ids'][0])[0]\n",
    "        model_txt = (\n",
    "            \" \".join(\n",
    "                [tknzr_en.decode(x) for x in model_out if x != padTgt]\n",
    "            ).split(eos_string, 1)[0]\n",
    "            + eos_string\n",
    "        )\n",
    "        print(\"Model Output               : \" + model_txt.replace(\"\\n\", \"\"))\n",
    "        results[idx] = (rb, src_tokens, tgt_tokens, model_out, model_txt)\n",
    "    return results\n",
    "\n",
    "\n",
    "def run_model_example(n_examples=5):\n",
    "    global vocab_src, vocab_tgt, spacy_de, spacy_en\n",
    "\n",
    "    print(\"Preparing Data ...\")\n",
    "    _, valid_dataloader = create_dataloaders(\n",
    "        device,\n",
    "        batch_size=1,\n",
    "        is_distributed=False,\n",
    "    )\n",
    "\n",
    "    print(\"Loading Trained Model ...\")\n",
    "\n",
    "    model = make_model(lenSrc, lenTgt, N=6)\n",
    "    model.to(device)\n",
    "    model.load_state_dict(\n",
    "        torch.load(\"multi30k_model_final.pt\", map_location=device)\n",
    "    )\n",
    "\n",
    "    print(\"Checking Model Outputs:\")\n",
    "    example_data = check_outputs(\n",
    "        valid_dataloader, model, tknzr_de, tknzr_en, n_examples=n_examples\n",
    "    )\n",
    "    return model, example_data\n",
    "\n",
    "\n",
    "execute_example(run_model_example)"
   ]
  }
 ],
 "metadata": {
  "colab": {
   "provenance": []
  },
  "jupytext": {
   "encoding": "# -*- coding: utf-8 -*-",
   "formats": "ipynb,py:percent"
  },
  "kernelspec": {
   "display_name": "transformer",
   "language": "python",
   "name": "python3"
  },
  "language_info": {
   "codemirror_mode": {
    "name": "ipython",
    "version": 3
   },
   "file_extension": ".py",
   "mimetype": "text/x-python",
   "name": "python",
   "nbconvert_exporter": "python",
   "pygments_lexer": "ipython3",
   "version": "3.10.11"
  }
 },
 "nbformat": 4,
 "nbformat_minor": 5
}
