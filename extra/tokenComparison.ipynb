{
 "cells": [
  {
   "cell_type": "code",
   "execution_count": 2,
   "id": "1bf3deb7",
   "metadata": {
    "execution": {
     "iopub.execute_input": "2022-05-02T01:25:17.560273Z",
     "iopub.status.busy": "2022-05-02T01:25:17.559273Z",
     "iopub.status.idle": "2022-05-02T01:25:18.690005Z",
     "shell.execute_reply": "2022-05-02T01:25:18.690769Z"
    },
    "id": "1bf3deb7",
    "lines_to_next_cell": 2
   },
   "outputs": [
    {
     "name": "stderr",
     "output_type": "stream",
     "text": [
      "c:\\Users\\aabba\\virtualEnvironments\\transformer\\lib\\site-packages\\tqdm\\auto.py:21: TqdmWarning: IProgress not found. Please update jupyter and ipywidgets. See https://ipywidgets.readthedocs.io/en/stable/user_install.html\n",
      "  from .autonotebook import tqdm as notebook_tqdm\n"
     ]
    }
   ],
   "source": [
    "import os\n",
    "from os.path import exists\n",
    "import torch\n",
    "import torch.nn as nn\n",
    "from torch.nn.functional import log_softmax, pad\n",
    "import math\n",
    "import copy\n",
    "import time\n",
    "from torch.optim.lr_scheduler import LambdaLR\n",
    "import pandas as pd\n",
    "import altair as alt\n",
    "from torchtext.data.functional import to_map_style_dataset\n",
    "from torch.utils.data import DataLoader\n",
    "from torchtext.vocab import build_vocab_from_iterator\n",
    "import torchtext.datasets as datasets\n",
    "import spacy\n",
    "import GPUtil\n",
    "import warnings\n",
    "from torch.utils.data.distributed import DistributedSampler\n",
    "import torch.distributed as dist\n",
    "import torch.multiprocessing as mp\n",
    "from torch.nn.parallel import DistributedDataParallel as DDP\n",
    "\n",
    "\n",
    "# Set to False to skip notebook execution (e.g. for debugging)\n",
    "warnings.filterwarnings(\"ignore\")\n",
    "RUN_EXAMPLES = True"
   ]
  },
  {
   "cell_type": "code",
   "execution_count": 3,
   "id": "60359a1a",
   "metadata": {
    "execution": {
     "iopub.execute_input": "2022-05-02T01:25:18.702574Z",
     "iopub.status.busy": "2022-05-02T01:25:18.701680Z",
     "iopub.status.idle": "2022-05-02T01:25:18.704131Z",
     "shell.execute_reply": "2022-05-02T01:25:18.704839Z"
    },
    "id": "60359a1a"
   },
   "outputs": [],
   "source": [
    "# Some convenience helper functions used throughout the notebook\n",
    "def is_interactive_notebook():\n",
    "    return __name__ == \"__main__\"\n",
    "\n",
    "\n",
    "def show_example(fn, args=[]):\n",
    "    if __name__ == \"__main__\" and RUN_EXAMPLES:\n",
    "        return fn(*args)\n",
    "\n",
    "\n",
    "def execute_example(fn, args=[]):\n",
    "    if __name__ == \"__main__\" and RUN_EXAMPLES:\n",
    "        fn(*args)\n",
    "\n",
    "\n",
    "class DummyOptimizer(torch.optim.Optimizer):\n",
    "    def __init__(self):\n",
    "        self.param_groups = [{\"lr\": 0}]\n",
    "        None\n",
    "\n",
    "    def step(self):\n",
    "        None\n",
    "\n",
    "    def zero_grad(self, set_to_none=False):\n",
    "        None\n",
    "\n",
    "\n",
    "class DummyScheduler:\n",
    "    def step(self):\n",
    "        None"
   ]
  },
  {
   "cell_type": "code",
   "execution_count": 4,
   "id": "90e7e57e",
   "metadata": {
    "execution": {
     "iopub.execute_input": "2022-05-02T01:25:18.716980Z",
     "iopub.status.busy": "2022-05-02T01:25:18.716023Z",
     "iopub.status.idle": "2022-05-02T01:25:18.718971Z",
     "shell.execute_reply": "2022-05-02T01:25:18.718190Z"
    },
    "id": "90e7e57e"
   },
   "outputs": [],
   "source": [
    "class EncoderDecoder(nn.Module):\n",
    "    \"\"\"\n",
    "    A standard Encoder-Decoder architecture. Base for this and many\n",
    "    other models.\n",
    "    \"\"\"\n",
    "\n",
    "    def __init__(self, src_embed, encoder, decoder, generator,tgt_embed):\n",
    "        super(EncoderDecoder, self).__init__()\n",
    "        self.encoder = encoder\n",
    "        self.decoder = decoder\n",
    "        self.src_embed = src_embed\n",
    "        self.tgt_embed = tgt_embed\n",
    "        self.generator = generator\n",
    "\n",
    "    def forward(self, src, tgt, src_mask, tgt_mask):\n",
    "        \"Take in and process masked src and target sequences.\"\n",
    "        return self.decode(self.encode(src, src_mask), src_mask, tgt, tgt_mask)\n",
    "\n",
    "    def encode(self, src, src_mask):\n",
    "        return self.encoder(self.src_embed(src), src_mask)\n",
    "\n",
    "    def decode(self, memory, src_mask, tgt, tgt_mask):\n",
    "        return self.decoder(self.tgt_embed(tgt), memory, src_mask, tgt_mask)"
   ]
  },
  {
   "cell_type": "code",
   "execution_count": 5,
   "id": "85bfcee7",
   "metadata": {
    "execution": {
     "iopub.execute_input": "2022-05-02T01:25:18.725923Z",
     "iopub.status.busy": "2022-05-02T01:25:18.724967Z",
     "iopub.status.idle": "2022-05-02T01:25:18.727616Z",
     "shell.execute_reply": "2022-05-02T01:25:18.726912Z"
    },
    "id": "85bfcee7",
    "lines_to_next_cell": 2
   },
   "outputs": [],
   "source": [
    "class Generator(nn.Module):\n",
    "    \"Define standard linear + softmax generation step.\"\n",
    "\n",
    "    def __init__(self, d_model, vocab):\n",
    "        super(Generator, self).__init__()\n",
    "        self.proj = nn.Linear(d_model, vocab)\n",
    "\n",
    "    def forward(self, x):\n",
    "        return log_softmax(self.proj(x), dim=-1)"
   ]
  },
  {
   "cell_type": "code",
   "execution_count": 6,
   "id": "0367c79f",
   "metadata": {
    "execution": {
     "iopub.execute_input": "2022-05-02T01:25:18.733957Z",
     "iopub.status.busy": "2022-05-02T01:25:18.733114Z",
     "iopub.status.idle": "2022-05-02T01:25:18.735146Z",
     "shell.execute_reply": "2022-05-02T01:25:18.735851Z"
    },
    "id": "0367c79f"
   },
   "outputs": [],
   "source": [
    "def clones(module, N):\n",
    "    \"Produce N identical layers.\"\n",
    "    return nn.ModuleList([copy.deepcopy(module) for _ in range(N)])"
   ]
  },
  {
   "cell_type": "code",
   "execution_count": 7,
   "id": "1d643018",
   "metadata": {
    "execution": {
     "iopub.execute_input": "2022-05-02T01:25:18.744483Z",
     "iopub.status.busy": "2022-05-02T01:25:18.743617Z",
     "iopub.status.idle": "2022-05-02T01:25:18.745891Z",
     "shell.execute_reply": "2022-05-02T01:25:18.746578Z"
    },
    "id": "1d643018"
   },
   "outputs": [],
   "source": [
    "class Encoder(nn.Module):\n",
    "    \"Core encoder is a stack of N layers\"\n",
    "\n",
    "    def __init__(self, layer, N):\n",
    "        super(Encoder, self).__init__()\n",
    "        self.layers = clones(layer, N)\n",
    "        self.norm = LayerNorm(layer.size)\n",
    "\n",
    "    def forward(self, x, mask):\n",
    "        \"Pass the input (and mask) through each layer in turn.\"\n",
    "        for layer in self.layers:\n",
    "            x = layer(x, mask)\n",
    "        return self.norm(x)"
   ]
  },
  {
   "cell_type": "markdown",
   "id": "9f730d85",
   "metadata": {
    "id": "9f730d85"
   },
   "source": [
    "\n",
    "We employ a residual connection\n",
    "[(cite)](https://arxiv.org/abs/1512.03385) around each of the two\n",
    "sub-layers, followed by layer normalization\n",
    "[(cite)](https://arxiv.org/abs/1607.06450)."
   ]
  },
  {
   "cell_type": "code",
   "execution_count": 8,
   "id": "1eb56a59",
   "metadata": {
    "execution": {
     "iopub.execute_input": "2022-05-02T01:25:18.756189Z",
     "iopub.status.busy": "2022-05-02T01:25:18.755315Z",
     "iopub.status.idle": "2022-05-02T01:25:18.757924Z",
     "shell.execute_reply": "2022-05-02T01:25:18.758590Z"
    },
    "id": "1eb56a59"
   },
   "outputs": [],
   "source": [
    "class LayerNorm(nn.Module):\n",
    "    \"Construct a layernorm module (See citation for details).\"\n",
    "\n",
    "    def __init__(self, features, eps=1e-6):\n",
    "        super(LayerNorm, self).__init__()\n",
    "        self.a_2 = nn.Parameter(torch.ones(features)) # differentiable scale parameter\n",
    "        self.b_2 = nn.Parameter(torch.zeros(features)) # differentiable bias\n",
    "        self.eps = eps\n",
    "\n",
    "    def forward(self, x):\n",
    "        mean = x.mean(-1, keepdim=True)\n",
    "        std = x.std(-1, keepdim=True)\n",
    "        return self.a_2 * (x - mean) / (std + self.eps) + self.b_2"
   ]
  },
  {
   "cell_type": "code",
   "execution_count": 9,
   "id": "a7f34584",
   "metadata": {
    "execution": {
     "iopub.execute_input": "2022-05-02T01:25:18.767044Z",
     "iopub.status.busy": "2022-05-02T01:25:18.766174Z",
     "iopub.status.idle": "2022-05-02T01:25:18.768689Z",
     "shell.execute_reply": "2022-05-02T01:25:18.769383Z"
    },
    "id": "a7f34584"
   },
   "outputs": [],
   "source": [
    "class SublayerConnection(nn.Module):\n",
    "#    \"\"\"\n",
    "#    A residual connection followed by a layer norm.\n",
    "#    Note for code simplicity the norm is first as opposed to last.\n",
    "#    \"\"\"\n",
    "\n",
    "    def __init__(self, size, dropout):\n",
    "        super(SublayerConnection, self).__init__()\n",
    "        self.norm = LayerNorm(size)\n",
    "        self.dropout = nn.Dropout(dropout)\n",
    "\n",
    "    def forward(self, x, sublayer):\n",
    "        \"Apply residual connection to any sublayer with the same size.\"\n",
    "        return x + self.dropout(sublayer(self.norm(x)))"
   ]
  },
  {
   "cell_type": "code",
   "execution_count": 11,
   "id": "51d72f95",
   "metadata": {},
   "outputs": [],
   "source": [
    "class EncoderLayer(nn.Module):\n",
    "    \"Encoder is made up of self-attn and feed forward (defined below)\"\n",
    "    def __init__(self, size, self_attn, feed_forward, dropout):\n",
    "        super(EncoderLayer, self).__init__()\n",
    "        self.self_attn = self_attn\n",
    "        self.feed_forward = feed_forward\n",
    "        self.sublayer = clones(SublayerConnection(size, dropout), 2)\n",
    "        self.size = size\n",
    "\n",
    "    def forward(self, x, mask):\n",
    "        \"Follow Figure 1 (left) for connections.\"\n",
    "        x = self.sublayer[0](x, lambda x: self.self_attn(x, x, x, mask))\n",
    "        return self.sublayer[1](x, self.feed_forward)"
   ]
  },
  {
   "cell_type": "code",
   "execution_count": 12,
   "id": "4dbe403d",
   "metadata": {
    "execution": {
     "iopub.execute_input": "2022-05-02T01:25:18.790602Z",
     "iopub.status.busy": "2022-05-02T01:25:18.789754Z",
     "iopub.status.idle": "2022-05-02T01:25:18.791985Z",
     "shell.execute_reply": "2022-05-02T01:25:18.792756Z"
    },
    "id": "4dbe403d"
   },
   "outputs": [],
   "source": [
    "class Decoder(nn.Module):\n",
    "    \"Generic N layer decoder with masking.\"\n",
    "\n",
    "    def __init__(self, layer, N):\n",
    "        super(Decoder, self).__init__()\n",
    "        self.layers = clones(layer, N)\n",
    "        self.norm = LayerNorm(layer.size)\n",
    "\n",
    "    def forward(self, x, memory, src_mask, tgt_mask):\n",
    "        for layer in self.layers:\n",
    "            x = layer(x, memory, src_mask, tgt_mask)\n",
    "        return self.norm(x)"
   ]
  },
  {
   "cell_type": "code",
   "execution_count": 13,
   "id": "3b1df6b1",
   "metadata": {
    "execution": {
     "iopub.execute_input": "2022-05-02T01:25:18.803099Z",
     "iopub.status.busy": "2022-05-02T01:25:18.796132Z",
     "iopub.status.idle": "2022-05-02T01:25:18.806479Z",
     "shell.execute_reply": "2022-05-02T01:25:18.805667Z"
    },
    "id": "3b1df6b1"
   },
   "outputs": [],
   "source": [
    "class DecoderLayer(nn.Module):\n",
    "    \"Decoder is made of self-attn, src-attn, and feed forward (defined below)\"\n",
    "\n",
    "    def __init__(self, size, self_attn, src_attn, feed_forward, dropout):\n",
    "        super(DecoderLayer, self).__init__()\n",
    "        self.size = size\n",
    "        self.self_attn = self_attn\n",
    "        self.src_attn = src_attn\n",
    "        self.feed_forward = feed_forward\n",
    "        self.sublayer = clones(SublayerConnection(size, dropout), 3)\n",
    "\n",
    "    def forward(self, x, memory, src_mask, tgt_mask):\n",
    "        \"Follow Figure 1 (right) for connections.\"\n",
    "        m = memory\n",
    "        x = self.sublayer[0](x, lambda x: self.self_attn(x, x, x, tgt_mask))\n",
    "        x = self.sublayer[1](x, lambda x: self.src_attn(x, m, m, src_mask))\n",
    "        return self.sublayer[2](x, self.feed_forward)"
   ]
  },
  {
   "cell_type": "code",
   "execution_count": 14,
   "id": "1fe1b467",
   "metadata": {
    "execution": {
     "iopub.execute_input": "2022-05-02T01:25:18.813309Z",
     "iopub.status.busy": "2022-05-02T01:25:18.812387Z",
     "iopub.status.idle": "2022-05-02T01:25:18.815171Z",
     "shell.execute_reply": "2022-05-02T01:25:18.814519Z"
    },
    "id": "1fe1b467"
   },
   "outputs": [],
   "source": [
    "def subsequent_mask(size):\n",
    "    \"Mask out subsequent positions.\"\n",
    "    attn_shape = (1, size, size)\n",
    "    subsequent_mask = torch.triu(torch.ones(attn_shape), diagonal=1).type(\n",
    "        torch.uint8\n",
    "    )\n",
    "    return subsequent_mask == 0"
   ]
  },
  {
   "cell_type": "code",
   "execution_count": 15,
   "id": "6c92d7c5",
   "metadata": {
    "execution": {
     "iopub.execute_input": "2022-05-02T01:25:19.251181Z",
     "iopub.status.busy": "2022-05-02T01:25:19.250905Z",
     "iopub.status.idle": "2022-05-02T01:25:19.253190Z",
     "shell.execute_reply": "2022-05-02T01:25:19.253437Z"
    },
    "id": "6c92d7c5",
    "lines_to_next_cell": 2
   },
   "outputs": [],
   "source": [
    "def attention(query, key, value, mask=None, dropout=None):\n",
    "    \"Compute 'Scaled Dot Product Attention'\"\n",
    "    d_k = query.size(-1)\n",
    "    scores = torch.matmul(query, key.transpose(-2, -1)) / math.sqrt(d_k)\n",
    "    if mask is not None:\n",
    "        #print(f\"Attention Matrix = {scores.shape}\")\n",
    "        #print(mask.shape)\n",
    "        scores = scores.masked_fill(mask == 0, -1e9)\n",
    "    p_attn = scores.softmax(dim=-1)\n",
    "    if dropout is not None:\n",
    "        p_attn = dropout(p_attn)\n",
    "    return torch.matmul(p_attn, value), p_attn"
   ]
  },
  {
   "cell_type": "code",
   "execution_count": 16,
   "id": "e7901bdc",
   "metadata": {
    "execution": {
     "iopub.execute_input": "2022-05-02T01:25:19.265961Z",
     "iopub.status.busy": "2022-05-02T01:25:19.265360Z",
     "iopub.status.idle": "2022-05-02T01:25:19.267873Z",
     "shell.execute_reply": "2022-05-02T01:25:19.267306Z"
    },
    "id": "e7901bdc"
   },
   "outputs": [],
   "source": [
    "class MultiHeadedAttention(nn.Module):\n",
    "    def __init__(self, h, d_model, dropout=0.1):\n",
    "        \"Take in model size and number of heads.\"\n",
    "        super(MultiHeadedAttention, self).__init__()\n",
    "        assert d_model % h == 0\n",
    "        # We assume d_v always equals d_k\n",
    "        self.d_k = d_model // h\n",
    "        self.h = h\n",
    "        self.linears = clones(nn.Linear(d_model, d_model), 4)\n",
    "        self.attn = None\n",
    "        self.dropout = nn.Dropout(p=dropout)\n",
    "\n",
    "    def forward(self, query, key, value, mask=None):\n",
    "        \"Implements Figure 2\"\n",
    "        if mask is not None:\n",
    "            # Same mask applied to all h heads.\n",
    "            mask = mask.unsqueeze(1)\n",
    "        nbatches = query.size(0)\n",
    "\n",
    "        # 1) Do all the linear projections in batch from d_model => h x d_k\n",
    "        query, key, value = [\n",
    "            lin(x).view(nbatches, -1, self.h, self.d_k).transpose(1, 2)\n",
    "            for lin, x in zip(self.linears, (query, key, value))\n",
    "        ]\n",
    "\n",
    "        # 2) Apply attention on all the projected vectors in batch.\n",
    "        x, self.attn = attention(\n",
    "            query, key, value, mask=mask, dropout=self.dropout\n",
    "        )\n",
    "\n",
    "        # 3) \"Concat\" using a view and apply a final linear.\n",
    "        x = (\n",
    "            x.transpose(1, 2)\n",
    "            .contiguous()\n",
    "            .view(nbatches, -1, self.h * self.d_k)\n",
    "        )\n",
    "        del query\n",
    "        del key\n",
    "        del value\n",
    "        return self.linears[-1](x)"
   ]
  },
  {
   "cell_type": "code",
   "execution_count": 17,
   "id": "cf547802",
   "metadata": {
    "execution": {
     "iopub.execute_input": "2022-05-02T01:25:19.274902Z",
     "iopub.status.busy": "2022-05-02T01:25:19.274161Z",
     "iopub.status.idle": "2022-05-02T01:25:19.277708Z",
     "shell.execute_reply": "2022-05-02T01:25:19.278473Z"
    },
    "id": "cf547802"
   },
   "outputs": [],
   "source": [
    "class PositionwiseFeedForward(nn.Module):\n",
    "    \"Implements FFN equation.\"\n",
    "\n",
    "    def __init__(self, d_model, d_ff, dropout=0.1):\n",
    "        super(PositionwiseFeedForward, self).__init__()\n",
    "        self.w_1 = nn.Linear(d_model, d_ff)\n",
    "        self.w_2 = nn.Linear(d_ff, d_model)\n",
    "        self.dropout = nn.Dropout(dropout)\n",
    "\n",
    "    def forward(self, x):\n",
    "        return self.w_2(self.dropout(self.w_1(x).relu()))"
   ]
  },
  {
   "cell_type": "code",
   "execution_count": 18,
   "id": "f851b029",
   "metadata": {
    "execution": {
     "iopub.execute_input": "2022-05-02T01:25:19.286884Z",
     "iopub.status.busy": "2022-05-02T01:25:19.285947Z",
     "iopub.status.idle": "2022-05-02T01:25:19.288160Z",
     "shell.execute_reply": "2022-05-02T01:25:19.288878Z"
    },
    "id": "f851b029"
   },
   "outputs": [],
   "source": [
    "class Embeddings(nn.Module):\n",
    "    def __init__(self, d_model, vocab):\n",
    "        super(Embeddings, self).__init__()\n",
    "        self.lut = nn.Embedding(vocab, d_model)\n",
    "        self.d_model = d_model\n",
    "\n",
    "    def forward(self, x):\n",
    "        return self.lut(x) * math.sqrt(self.d_model)"
   ]
  },
  {
   "cell_type": "code",
   "execution_count": 19,
   "id": "dfacc553",
   "metadata": {
    "execution": {
     "iopub.execute_input": "2022-05-02T01:25:19.300508Z",
     "iopub.status.busy": "2022-05-02T01:25:19.299554Z",
     "iopub.status.idle": "2022-05-02T01:25:19.301927Z",
     "shell.execute_reply": "2022-05-02T01:25:19.302701Z"
    },
    "id": "dfacc553"
   },
   "outputs": [],
   "source": [
    "class PositionalEncoding(nn.Module):\n",
    "    \"Implement the PE function.\"\n",
    "\n",
    "    def __init__(self, d_model, dropout, max_len=5000):\n",
    "        super(PositionalEncoding, self).__init__()\n",
    "        self.dropout = nn.Dropout(p=dropout)\n",
    "\n",
    "        # Compute the positional encodings once in log space.\n",
    "        pe = torch.zeros(max_len, d_model)\n",
    "        position = torch.arange(0, max_len).unsqueeze(1)\n",
    "        div_term = torch.exp(\n",
    "            torch.arange(0, d_model, 2) * -(math.log(10000.0) / d_model)\n",
    "        )\n",
    "        pe[:, 0::2] = torch.sin(position * div_term)\n",
    "        pe[:, 1::2] = torch.cos(position * div_term)\n",
    "        pe = pe.unsqueeze(0)\n",
    "        self.register_buffer(\"pe\", pe)\n",
    "\n",
    "    def forward(self, x):\n",
    "        x = x + self.pe[:, : x.size(1)].requires_grad_(False)\n",
    "        #print(f\"Positional Encoding = {x.shape}\")\n",
    "        return self.dropout(x)"
   ]
  },
  {
   "cell_type": "code",
   "execution_count": 20,
   "id": "460e5768",
   "metadata": {
    "execution": {
     "iopub.execute_input": "2022-05-02T01:25:19.633281Z",
     "iopub.status.busy": "2022-05-02T01:25:19.632424Z",
     "iopub.status.idle": "2022-05-02T01:25:19.634909Z",
     "shell.execute_reply": "2022-05-02T01:25:19.634216Z"
    },
    "id": "460e5768"
   },
   "outputs": [],
   "source": [
    "def make_model(\n",
    "    src_vocab, tgt_vocab, N=6, d_model=512, d_ff=2048, h=8, dropout=0.1\n",
    "):\n",
    "    \"Helper: Construct a model from hyperparameters.\"\n",
    "    c = copy.deepcopy\n",
    "    attn = MultiHeadedAttention(h, d_model)\n",
    "    ff = PositionwiseFeedForward(d_model, d_ff, dropout)\n",
    "    position = PositionalEncoding(d_model, dropout)\n",
    "    model = EncoderDecoder(\n",
    "        nn.Sequential(Embeddings(d_model, src_vocab), c(position)),\n",
    "        Encoder(EncoderLayer(d_model, c(attn), c(ff), dropout), N),\n",
    "        Decoder(DecoderLayer(d_model, c(attn), c(attn), c(ff), dropout), N),\n",
    "        Generator(d_model, tgt_vocab),\n",
    "        nn.Sequential(Embeddings(d_model, tgt_vocab), c(position))\n",
    "    )\n",
    "\n",
    "    # This was important from their code.\n",
    "    # Initialize parameters with Glorot / fan_avg.\n",
    "    for p in model.parameters():\n",
    "        if p.dim() > 1:\n",
    "            nn.init.xavier_uniform_(p)\n",
    "    return model"
   ]
  },
  {
   "cell_type": "code",
   "execution_count": 21,
   "id": "4ee20bc4",
   "metadata": {
    "execution": {
     "iopub.execute_input": "2022-05-02T01:25:20.889839Z",
     "iopub.status.busy": "2022-05-02T01:25:20.889563Z",
     "iopub.status.idle": "2022-05-02T01:25:20.890646Z",
     "shell.execute_reply": "2022-05-02T01:25:20.892925Z"
    },
    "id": "4ee20bc4"
   },
   "outputs": [],
   "source": [
    "class Batch:\n",
    "    \"\"\"Object for holding a batch of data with mask during training.\"\"\"\n",
    "\n",
    "    def __init__(self, src, tgt=None, pad=2):  # 2 = <blank>\n",
    "        self.src = src\n",
    "        self.src_mask = (src != pad).unsqueeze(-2)\n",
    "        if tgt is not None:\n",
    "            self.tgt = tgt[:, :-1]\n",
    "            self.tgt_y = tgt[:, 1:]\n",
    "            self.tgt_mask = self.make_std_mask(self.tgt, pad)\n",
    "            self.ntokens = (self.tgt_y != pad).data.sum()\n",
    "\n",
    "    @staticmethod\n",
    "    def make_std_mask(tgt, pad):\n",
    "        \"Create a mask to hide padding and future words.\"\n",
    "        tgt_mask = (tgt != pad).unsqueeze(-2)\n",
    "        tgt_mask = tgt_mask & subsequent_mask(tgt.size(-1)).type_as(\n",
    "            tgt_mask.data\n",
    "        )\n",
    "        return tgt_mask"
   ]
  },
  {
   "cell_type": "code",
   "execution_count": 22,
   "id": "77d96f50",
   "metadata": {
    "execution": {
     "iopub.execute_input": "2022-05-02T01:25:22.858827Z",
     "iopub.status.busy": "2022-05-02T01:25:22.858459Z",
     "iopub.status.idle": "2022-05-02T01:25:22.860907Z",
     "shell.execute_reply": "2022-05-02T01:25:22.861184Z"
    },
    "id": "77d96f50",
    "lines_to_next_cell": 2
   },
   "outputs": [],
   "source": [
    "class LabelSmoothing(nn.Module):\n",
    "    \"Implement label smoothing.\"\n",
    "\n",
    "    def __init__(self, size, padding_idx, smoothing=0.0):\n",
    "        super(LabelSmoothing, self).__init__()\n",
    "        self.criterion = nn.KLDivLoss(reduction=\"sum\")\n",
    "        self.padding_idx = padding_idx\n",
    "        self.confidence = 1.0 - smoothing\n",
    "        self.smoothing = smoothing\n",
    "        self.size = size\n",
    "        self.true_dist = None\n",
    "\n",
    "    def forward(self, x, target):\n",
    "        assert x.size(1) == self.size\n",
    "        true_dist = x.data.clone()\n",
    "        true_dist.fill_(self.smoothing / (self.size - 2))\n",
    "        true_dist.scatter_(1, target.data.unsqueeze(1), self.confidence)\n",
    "        true_dist[:, self.padding_idx] = 0\n",
    "        mask = torch.nonzero(target.data == self.padding_idx)\n",
    "        if mask.dim() > 0:\n",
    "            true_dist.index_fill_(0, mask.squeeze(), 0.0)\n",
    "        self.true_dist = true_dist\n",
    "        return self.criterion(x, true_dist.clone().detach())"
   ]
  },
  {
   "cell_type": "markdown",
   "id": "00b7bdc2",
   "metadata": {
    "id": "00b7bdc2"
   },
   "source": [
    "## Greedy Decoding"
   ]
  },
  {
   "cell_type": "markdown",
   "id": "958119b5",
   "metadata": {
    "id": "958119b5",
    "lines_to_next_cell": 0,
    "tags": []
   },
   "source": [
    "> This code predicts a translation using greedy decoding for simplicity."
   ]
  },
  {
   "cell_type": "code",
   "execution_count": 24,
   "id": "8426fe69",
   "metadata": {
    "execution": {
     "iopub.execute_input": "2022-05-02T01:25:23.470843Z",
     "iopub.status.busy": "2022-05-02T01:25:23.469910Z",
     "iopub.status.idle": "2022-05-02T01:25:23.471795Z",
     "shell.execute_reply": "2022-05-02T01:25:23.472524Z"
    },
    "id": "8426fe69",
    "lines_to_next_cell": 2
   },
   "outputs": [],
   "source": [
    "def greedy_decode(model, src, src_mask, max_len, start_symbol):\n",
    "    memory = model.encode(src, src_mask)\n",
    "    print(f\"Memory shape = {memory.shape}\")\n",
    "    ys = torch.zeros(1, 1).fill_(start_symbol).type_as(src.data)\n",
    "    for i in range(max_len - 1):\n",
    "        out = model.decode(\n",
    "            memory, src_mask, ys, subsequent_mask(ys.size(1)).type_as(src.data)\n",
    "        )\n",
    "        prob = model.generator(out[:, -1])\n",
    "        _, next_word = torch.max(prob, dim=1)\n",
    "        next_word = next_word.data[0]\n",
    "        ys = torch.cat(\n",
    "            [ys, torch.zeros(1, 1).type_as(src.data).fill_(next_word)], dim=1\n",
    "        )\n",
    "    return ys"
   ]
  },
  {
   "cell_type": "markdown",
   "id": "9a439ef0",
   "metadata": {
    "id": "9a439ef0"
   },
   "source": [
    "# Part 3: A Real World Example\n",
    "\n",
    "> Now we consider a real-world example using the Multi30k\n",
    "> German-English Translation task. This task is much smaller than\n",
    "> the WMT task considered in the paper, but it illustrates the whole\n",
    "> system. We also show how to use multi-gpu processing to make it\n",
    "> really fast."
   ]
  },
  {
   "cell_type": "markdown",
   "id": "1ceb7001",
   "metadata": {
    "id": "1ceb7001",
    "tags": []
   },
   "source": [
    "## Data Loading\n",
    "\n",
    "> We will load the dataset using torchtext and spacy for\n",
    "> tokenization."
   ]
  },
  {
   "cell_type": "code",
   "execution_count": 25,
   "id": "9c3a83e3",
   "metadata": {
    "execution": {
     "iopub.execute_input": "2022-05-02T01:25:23.491667Z",
     "iopub.status.busy": "2022-05-02T01:25:23.490728Z",
     "iopub.status.idle": "2022-05-02T01:25:23.492689Z",
     "shell.execute_reply": "2022-05-02T01:25:23.493407Z"
    },
    "id": "9c3a83e3"
   },
   "outputs": [],
   "source": [
    "def load_tokenizers():\n",
    "    try:\n",
    "        spacy_de = spacy.load(\"de_core_news_sm\")\n",
    "    except IOError:\n",
    "        os.system(\"python -m spacy download de_core_news_sm\")\n",
    "        spacy_de = spacy.load(\"de_core_news_sm\")\n",
    "\n",
    "    try:\n",
    "        spacy_en = spacy.load(\"en_core_web_sm\")\n",
    "    except IOError:\n",
    "        os.system(\"python -m spacy download en_core_web_sm\")\n",
    "        spacy_en = spacy.load(\"en_core_web_sm\")\n",
    "\n",
    "    return spacy_de, spacy_en"
   ]
  },
  {
   "cell_type": "code",
   "execution_count": 26,
   "id": "6092be4f",
   "metadata": {
    "execution": {
     "iopub.execute_input": "2022-05-02T01:25:23.500603Z",
     "iopub.status.busy": "2022-05-02T01:25:23.499698Z",
     "iopub.status.idle": "2022-05-02T01:25:23.502449Z",
     "shell.execute_reply": "2022-05-02T01:25:23.501724Z"
    },
    "id": "6092be4f",
    "lines_to_next_cell": 2,
    "tags": []
   },
   "outputs": [],
   "source": [
    "def tokenize(text, tokenizer):\n",
    "    return [tok.text for tok in tokenizer.tokenizer(text)]\n",
    "\n",
    "\n",
    "def yield_tokens(data_iter, tokenizer, index):\n",
    "    for from_to_tuple in data_iter:\n",
    "        yield tokenizer(from_to_tuple[index])"
   ]
  },
  {
   "cell_type": "code",
   "execution_count": 27,
   "id": "04cbc8fe",
   "metadata": {},
   "outputs": [],
   "source": [
    "from torchtext.datasets import Multi30k\n",
    "from functools import partial\n",
    "from torchtext.datasets import multi30k\n",
    "\n",
    "multi30k.URL[\"train\"] = \"https://raw.githubusercontent.com/neychev/small_DL_repo/master/datasets/Multi30k/training.tar.gz\"\n",
    "multi30k.URL[\"valid\"] = \"https://raw.githubusercontent.com/neychev/small_DL_repo/master/datasets/Multi30k/validation.tar.gz\"\n",
    "multi30k.URL[\"test\"] = \"https://raw.githubusercontent.com/neychev/small_DL_repo/master/datasets/Multi30k/mmt16_task1_test.tar.gz\"\n",
    "\n",
    "multi30k.MD5[\"train\"] = \"20140d013d05dd9a72dfde46478663ba05737ce983f478f960c1123c6671be5e\"\n",
    "multi30k.MD5[\"valid\"] = \"a7aa20e9ebd5ba5adce7909498b94410996040857154dab029851af3a866da8c\"\n",
    "multi30k.MD5[\"test\"] = \"6d1ca1dba99e2c5dd54cae1226ff11c2551e6ce63527ebb072a1f70f72a5cd36\""
   ]
  },
  {
   "cell_type": "markdown",
   "id": "f57752f8",
   "metadata": {
    "id": "f57752f8",
    "incorrectly_encoded_metadata": "id=\"kDEj-hCgokC-\" tags=[] jp-MarkdownHeadingCollapsed=true"
   },
   "source": [
    "## Iterators"
   ]
  },
  {
   "cell_type": "code",
   "execution_count": 28,
   "id": "33350048",
   "metadata": {
    "execution": {
     "iopub.execute_input": "2022-05-02T01:25:25.144310Z",
     "iopub.status.busy": "2022-05-02T01:25:25.143931Z",
     "iopub.status.idle": "2022-05-02T01:25:25.146354Z",
     "shell.execute_reply": "2022-05-02T01:25:25.146629Z"
    },
    "id": "33350048",
    "tags": []
   },
   "outputs": [],
   "source": [
    "def collate_batch(\n",
    "    batch,\n",
    "    src_pipeline,\n",
    "    tgt_pipeline,\n",
    "    src_vocab,\n",
    "    tgt_vocab,\n",
    "    device,\n",
    "    max_padding=128,\n",
    "    pad_id=2,\n",
    "):\n",
    "    bs_id = torch.tensor([0], device=device)  # <s> token id\n",
    "    eos_id = torch.tensor([1], device=device)  # </s> token id\n",
    "    src_list, tgt_list = [], []\n",
    "    for (_src, _tgt) in batch:\n",
    "        processed_src = torch.cat(\n",
    "            [\n",
    "                bs_id,\n",
    "                torch.tensor(\n",
    "                    src_vocab(src_pipeline(_src)),\n",
    "                    dtype=torch.int64,\n",
    "                    device=device,\n",
    "                ),\n",
    "                eos_id,\n",
    "            ],\n",
    "            0,\n",
    "        )\n",
    "        processed_tgt = torch.cat(\n",
    "            [\n",
    "                bs_id,\n",
    "                torch.tensor(\n",
    "                    tgt_vocab(tgt_pipeline(_tgt)),\n",
    "                    dtype=torch.int64,\n",
    "                    device=device,\n",
    "                ),\n",
    "                eos_id,\n",
    "            ],\n",
    "            0,\n",
    "        )\n",
    "        src_list.append(\n",
    "            # warning - overwrites values for negative values of padding - len\n",
    "            pad(\n",
    "                processed_src,\n",
    "                (\n",
    "                    0,\n",
    "                    max_padding - len(processed_src),\n",
    "                ),\n",
    "                value=pad_id,\n",
    "            )\n",
    "        )\n",
    "        tgt_list.append(\n",
    "            pad(\n",
    "                processed_tgt,\n",
    "                (0, max_padding - len(processed_tgt)),\n",
    "                value=pad_id,\n",
    "            )\n",
    "        )\n",
    "\n",
    "    src = torch.stack(src_list)\n",
    "    tgt = torch.stack(tgt_list)\n",
    "    return (src, tgt)"
   ]
  },
  {
   "cell_type": "code",
   "execution_count": 29,
   "id": "3d94df2f",
   "metadata": {
    "execution": {
     "iopub.execute_input": "2022-05-02T01:25:25.158739Z",
     "iopub.status.busy": "2022-05-02T01:25:25.158133Z",
     "iopub.status.idle": "2022-05-02T01:25:25.160905Z",
     "shell.execute_reply": "2022-05-02T01:25:25.160371Z"
    },
    "id": "3d94df2f",
    "tags": []
   },
   "outputs": [],
   "source": [
    "def create_dataloaders(\n",
    "    device,\n",
    "    vocab_src,\n",
    "    vocab_tgt,\n",
    "    spacy_de,\n",
    "    spacy_en,\n",
    "    batch_size=12000,\n",
    "    max_padding=128,\n",
    "    is_distributed=True,\n",
    "):\n",
    "    device = torch.device(\"cpu\")\n",
    "    # def create_dataloaders(batch_size=12000):\n",
    "    def tokenize_de(text):\n",
    "        return tokenize(text, spacy_de)\n",
    "\n",
    "    def tokenize_en(text):\n",
    "        return tokenize(text, spacy_en)\n",
    "\n",
    "    def collate_fn(batch):\n",
    "        return collate_batch(\n",
    "            batch,\n",
    "            tokenize_de,\n",
    "            tokenize_en,\n",
    "            vocab_src,\n",
    "            vocab_tgt,\n",
    "            device,\n",
    "            max_padding=max_padding,\n",
    "            pad_id=vocab_src.get_stoi()[\"<blank>\"],\n",
    "        )\n",
    "\n",
    "    train_iter, valid_iter, test_iter = datasets.Multi30k(\n",
    "        language_pair=(\"de\", \"en\")\n",
    "    )\n",
    "\n",
    "    train_iter_map = to_map_style_dataset(\n",
    "        train_iter\n",
    "    )  # DistributedSampler needs a dataset len()\n",
    "    train_sampler = (\n",
    "        DistributedSampler(train_iter_map) if is_distributed else None\n",
    "    )\n",
    "    valid_iter_map = to_map_style_dataset(valid_iter)\n",
    "    valid_sampler = (\n",
    "        DistributedSampler(valid_iter_map) if is_distributed else None\n",
    "    )\n",
    "\n",
    "    train_dataloader = DataLoader(\n",
    "        train_iter_map,\n",
    "        batch_size=batch_size,\n",
    "        shuffle=(train_sampler is None),\n",
    "        sampler=train_sampler,\n",
    "        collate_fn=collate_fn,\n",
    "    )\n",
    "    valid_dataloader = DataLoader(\n",
    "        valid_iter_map,\n",
    "        batch_size=batch_size,\n",
    "        shuffle=(valid_sampler is None),\n",
    "        sampler=valid_sampler,\n",
    "        collate_fn=collate_fn,\n",
    "    )\n",
    "    return train_dataloader, valid_dataloader"
   ]
  },
  {
   "cell_type": "code",
   "execution_count": 30,
   "id": "7e9ea634",
   "metadata": {},
   "outputs": [
    {
     "name": "stdout",
     "output_type": "stream",
     "text": [
      "Finished.\n",
      "Vocabulary sizes:\n",
      "8316\n",
      "6384\n"
     ]
    }
   ],
   "source": [
    "def build_vocabulary(spacy_de, spacy_en):\n",
    "    def tokenize_de(text):\n",
    "        return tokenize(text, spacy_de)\n",
    "\n",
    "    def tokenize_en(text):\n",
    "        return tokenize(text, spacy_en)\n",
    "\n",
    "    print(\"Building German Vocabulary ...\")\n",
    "\n",
    "\n",
    "    train, val, test = datasets.Multi30k(language_pair=(\"de\", \"en\"))\n",
    "    vocab_src = build_vocab_from_iterator(\n",
    "        yield_tokens(train + val + test, tokenize_de, index=0),\n",
    "        min_freq=2,\n",
    "        specials=[\"<s>\", \"</s>\", \"<blank>\", \"<unk>\"],\n",
    "    )\n",
    "\n",
    "    print(\"Building English Vocabulary ...\")\n",
    "    train, val, test = datasets.Multi30k(language_pair=(\"de\", \"en\"))\n",
    "    vocab_tgt = build_vocab_from_iterator(\n",
    "        yield_tokens(train + val + test, tokenize_en, index=1),\n",
    "        min_freq=2,\n",
    "        specials=[\"<s>\", \"</s>\", \"<blank>\", \"<unk>\"],\n",
    "    )\n",
    "\n",
    "    vocab_src.set_default_index(vocab_src[\"<unk>\"])\n",
    "    vocab_tgt.set_default_index(vocab_tgt[\"<unk>\"])\n",
    "\n",
    "    return vocab_src, vocab_tgt\n",
    "\n",
    "\n",
    "def load_vocab(spacy_de, spacy_en):\n",
    "    if not exists(\"vocab.pt\"):\n",
    "        vocab_src, vocab_tgt = build_vocabulary(spacy_de, spacy_en)\n",
    "        torch.save((vocab_src, vocab_tgt), \"vocab.pt\")\n",
    "    else:\n",
    "        vocab_src, vocab_tgt = torch.load(\"vocab.pt\")\n",
    "    print(\"Finished.\\nVocabulary sizes:\")\n",
    "    print(len(vocab_src))\n",
    "    print(len(vocab_tgt))\n",
    "    return vocab_src, vocab_tgt\n",
    "\n",
    "\n",
    "if is_interactive_notebook():\n",
    "    # global variables used later in the script\n",
    "    spacy_de, spacy_en = show_example(load_tokenizers)\n",
    "    vocab_src, vocab_tgt = show_example(load_vocab, args=[spacy_de, spacy_en])"
   ]
  },
  {
   "cell_type": "code",
   "execution_count": 31,
   "id": "6deb2571",
   "metadata": {
    "execution": {
     "iopub.execute_input": "2022-05-02T01:25:28.732320Z",
     "iopub.status.busy": "2022-05-02T01:25:28.726845Z",
     "iopub.status.idle": "2022-05-02T01:25:28.742979Z",
     "shell.execute_reply": "2022-05-02T01:25:28.742276Z"
    },
    "id": "6deb2571",
    "lines_to_next_cell": 2
   },
   "outputs": [
    {
     "name": "stdout",
     "output_type": "stream",
     "text": [
      "Preparing Data ...\n",
      "Loading Trained Model ...\n",
      "Checking Model Outputs:\n",
      "\n",
      "Example 0 ========\n",
      "\n",
      "Memory shape = torch.Size([1, 128, 512])\n",
      "Source Text (Input)        : <s> Ein Mann rasiert sich , während er am Strand vor dem Meer sitzt . </s>\n",
      "Target Text (Ground Truth) : <s> A man is shaving while sitting on the beach in front of the ocean . </s>\n",
      "Memory shape = torch.Size([1, 128, 512])\n",
      "Model Output               : <s> A man shaving his shaving while sitting in front of the ocean . </s>\n",
      "\n",
      "Example 1 ========\n",
      "\n",
      "Memory shape = torch.Size([1, 128, 512])\n",
      "Source Text (Input)        : <s> Ein Mann lümmelt auf einem Gehweg in einer Stadt auf einem Stuhl und sieht den Frauen nach . </s>\n",
      "Target Text (Ground Truth) : <s> A man slouched in a chair on a city sidewalk girl watching . </s>\n",
      "Memory shape = torch.Size([1, 128, 512])\n",
      "Model Output               : <s> A man <unk> on a sidewalk in a city while the woman looks on the sidewalk . </s>\n",
      "\n",
      "Example 2 ========\n",
      "\n",
      "Memory shape = torch.Size([1, 128, 512])\n",
      "Source Text (Input)        : <s> Drei Kinder in braunen Shirts und Jeans hüpfen im Freien mit Blättern auf dem Boden . </s>\n",
      "Target Text (Ground Truth) : <s> Three kids wearing brown shirts and jeans jumping outdoors with leaves on the ground . </s>\n",
      "Memory shape = torch.Size([1, 128, 512])\n",
      "Model Output               : <s> Three children wearing brown shirts and jeans are jumping on the ground outside with leaves . </s>\n",
      "\n",
      "Example 3 ========\n",
      "\n",
      "Memory shape = torch.Size([1, 128, 512])\n",
      "Source Text (Input)        : <s> Ein Künstler malt im Freien . </s>\n",
      "Target Text (Ground Truth) : <s> An artist is painting outside . </s>\n",
      "Memory shape = torch.Size([1, 128, 512])\n",
      "Model Output               : <s> An artist painting outside on the outdoors . </s>\n",
      "\n",
      "Example 4 ========\n",
      "\n",
      "Memory shape = torch.Size([1, 128, 512])\n",
      "Source Text (Input)        : <s> Ein Mann in einer überfüllten Bar lächelt mit einer Hand an seiner Stirn . </s>\n",
      "Target Text (Ground Truth) : <s> A man is smiling with one hand on his forehead at a crowded bar . </s>\n",
      "Memory shape = torch.Size([1, 128, 512])\n",
      "Model Output               : <s> A man in a crowded bar smiles with one hand on his forehead . </s>\n"
     ]
    }
   ],
   "source": [
    "def check_outputs(\n",
    "    valid_dataloader,\n",
    "    model,\n",
    "    vocab_src,\n",
    "    vocab_tgt,\n",
    "    n_examples=15,\n",
    "    pad_idx=2,\n",
    "    eos_string=\"</s>\",\n",
    "):\n",
    "    results = [()] * n_examples\n",
    "    for idx in range(n_examples):\n",
    "        print(\"\\nExample %d ========\\n\" % idx)\n",
    "        b = next(iter(valid_dataloader))\n",
    "        rb = Batch(b[0], b[1], pad_idx)\n",
    "        greedy_decode(model, rb.src, rb.src_mask, 64, 0)[0]\n",
    "\n",
    "        src_tokens = [\n",
    "            vocab_src.get_itos()[x] for x in rb.src[0] if x != pad_idx\n",
    "        ]\n",
    "        tgt_tokens = [\n",
    "            vocab_tgt.get_itos()[x] for x in rb.tgt[0] if x != pad_idx\n",
    "        ]\n",
    "\n",
    "        print(\n",
    "            \"Source Text (Input)        : \"\n",
    "            + \" \".join(src_tokens).replace(\"\\n\", \"\")\n",
    "        )\n",
    "        print(\n",
    "            \"Target Text (Ground Truth) : \"\n",
    "            + \" \".join(tgt_tokens).replace(\"\\n\", \"\")\n",
    "        )\n",
    "        model_out = greedy_decode(model, rb.src, rb.src_mask, 72, 0)[0]\n",
    "        model_txt = (\n",
    "            \" \".join(\n",
    "                [vocab_tgt.get_itos()[x] for x in model_out if x != pad_idx]\n",
    "            ).split(eos_string, 1)[0]\n",
    "            + eos_string\n",
    "        )\n",
    "        print(\"Model Output               : \" + model_txt.replace(\"\\n\", \"\"))\n",
    "        results[idx] = (rb, src_tokens, tgt_tokens, model_out, model_txt)\n",
    "    return results\n",
    "\n",
    "\n",
    "def run_model_example(n_examples=5):\n",
    "    global vocab_src, vocab_tgt, spacy_de, spacy_en\n",
    "\n",
    "    print(\"Preparing Data ...\")\n",
    "    _, valid_dataloader = create_dataloaders(\n",
    "        torch.device(\"cpu\"),\n",
    "        vocab_src,\n",
    "        vocab_tgt,\n",
    "        spacy_de,\n",
    "        spacy_en,\n",
    "        batch_size=1,\n",
    "        is_distributed=False,\n",
    "    )\n",
    "\n",
    "    print(\"Loading Trained Model ...\")\n",
    "\n",
    "    model = make_model(len(vocab_src), len(vocab_tgt), N=6)\n",
    "    model.load_state_dict(\n",
    "        torch.load(\"multi30k_model_final_Spacy.pt\", map_location=torch.device(\"cpu\"))\n",
    "    )\n",
    "\n",
    "    print(\"Checking Model Outputs:\")\n",
    "    example_data = check_outputs(\n",
    "        valid_dataloader, model, vocab_src, vocab_tgt, n_examples=n_examples\n",
    "    )\n",
    "    return model, example_data\n",
    "\n",
    "\n",
    "execute_example(run_model_example)"
   ]
  }
 ],
 "metadata": {
  "colab": {
   "provenance": []
  },
  "jupytext": {
   "encoding": "# -*- coding: utf-8 -*-",
   "formats": "ipynb,py:percent"
  },
  "kernelspec": {
   "display_name": "transformer",
   "language": "python",
   "name": "python3"
  },
  "language_info": {
   "codemirror_mode": {
    "name": "ipython",
    "version": 3
   },
   "file_extension": ".py",
   "mimetype": "text/x-python",
   "name": "python",
   "nbconvert_exporter": "python",
   "pygments_lexer": "ipython3",
   "version": "3.10.11"
  }
 },
 "nbformat": 4,
 "nbformat_minor": 5
}
